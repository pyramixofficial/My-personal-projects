{
 "cells": [
  {
   "cell_type": "markdown",
   "id": "c550e686",
   "metadata": {},
   "source": [
    "## Implementation of PCA from Scratch"
   ]
  },
  {
   "cell_type": "code",
   "execution_count": 2,
   "id": "caf3dd58",
   "metadata": {},
   "outputs": [],
   "source": [
    "class myPCA:\n",
    "    def __init__(self, n_components : int = 2, method : str = 'svd') -> None:\n",
    "        '''\n",
    "            The constructor of the Pca alghoritm.\n",
    "        :param n_components: int, default = 2\n",
    "            The dimension in which the data will be reduced\n",
    "        :param method: str, default = 'svd'\n",
    "            The way used by PCA to reduce the dimensionality of the data\n",
    "        '''\n",
    "        self.__n_components = n_components\n",
    "        if method in ['svd', 'eigen']:\n",
    "            self.__method  = method\n",
    "        else:\n",
    "            raise ValueError(f\"'{method}' isn't a method implemented in this model\")\n",
    "    \n",
    "    def fit(self, X : 'np.array'):\n",
    "        '''\n",
    "            The fitting method\n",
    "        :param X: np.array\n",
    "            The data on which we want to fit the pca\n",
    "        '''\n",
    "        if self.__method == 'svd':\n",
    "            U, S, V = np.linalg.svd(X)\n",
    "            self.__V = V[:self.__n_components, :]\n",
    "        elif self.__method == 'eigen':\n",
    "            corr_mat = np.corrcoef(X.T)\n",
    "            \n",
    "            #Getting the eigenvectors and eigenvalues\n",
    "            self.eig_vals, self.eig_vecs = np.linalg.eig(corr_mat)\n",
    "            \n",
    "            #Sorting the list of tuples (eigenvalue, eigenvector)\n",
    "            self.eig_pairs = [(np.abs(self.eig_vals[i]), self.eig_vecs[:, i]) for i in range(len(self.eig_vals))]\n",
    "            \n",
    "            self.eig_pairs.sort(key = lambda x: x[0], reverse = True)\n",
    "            \n",
    "            #Calculating the explainet ration\n",
    "            total = sum(self.eig_vals)\n",
    "            self.explained_variance_ratio = [(i/total) * 100 for i in sorted(self.eig_vals, reverse = True)]\n",
    "            \n",
    "            self.cumulative_variance_ratio = np.cumsum(self.explained_variance_ratio)\n",
    "            \n",
    "            #Creating the projection matrix\n",
    "            self.matrix_w = np.hstack((self.eig_pairs[i][1].reshape(np.size(X, 1), 1)\n",
    "                                      for i in range(self.__n_components)))\n",
    "            \n",
    "        return self\n",
    "        \n",
    "    def transform(self, X : 'np.array') -> 'np.array':\n",
    "        '''\n",
    "            The transform function\n",
    "        :param X: np.array\n",
    "            The data that we must reduce\n",
    "        '''\n",
    "        if self.__method == 'svd':\n",
    "            return X.dot(self.__V.T)\n",
    "        elif self.__method == 'eigen':\n",
    "            return X.dot(self.matrix_w)"
   ]
  },
  {
   "cell_type": "markdown",
   "id": "91fc36d9",
   "metadata": {},
   "source": [
    "## Implementation of PCA from sklearn"
   ]
  },
  {
   "cell_type": "code",
   "execution_count": 4,
   "id": "a8fd95c5",
   "metadata": {},
   "outputs": [
    {
     "name": "stdout",
     "output_type": "stream",
     "text": [
      "(506, 13)\n"
     ]
    },
    {
     "name": "stderr",
     "output_type": "stream",
     "text": [
      "C:\\Users\\balam\\AppData\\Roaming\\Python\\Python37\\site-packages\\sklearn\\utils\\deprecation.py:87: FutureWarning: Function load_boston is deprecated; `load_boston` is deprecated in 1.0 and will be removed in 1.2.\n",
      "\n",
      "    The Boston housing prices dataset has an ethical problem. You can refer to\n",
      "    the documentation of this function for further details.\n",
      "\n",
      "    The scikit-learn maintainers therefore strongly discourage the use of this\n",
      "    dataset unless the purpose of the code is to study and educate about\n",
      "    ethical issues in data science and machine learning.\n",
      "\n",
      "    In this special case, you can fetch the dataset from the original\n",
      "    source::\n",
      "\n",
      "        import pandas as pd\n",
      "        import numpy as np\n",
      "\n",
      "\n",
      "        data_url = \"http://lib.stat.cmu.edu/datasets/boston\"\n",
      "        raw_df = pd.read_csv(data_url, sep=\"\\s+\", skiprows=22, header=None)\n",
      "        data = np.hstack([raw_df.values[::2, :], raw_df.values[1::2, :2]])\n",
      "        target = raw_df.values[1::2, 2]\n",
      "\n",
      "    Alternative datasets include the California housing dataset (i.e.\n",
      "    :func:`~sklearn.datasets.fetch_california_housing`) and the Ames housing\n",
      "    dataset. You can load the datasets as follows::\n",
      "\n",
      "        from sklearn.datasets import fetch_california_housing\n",
      "        housing = fetch_california_housing()\n",
      "\n",
      "    for the California housing dataset and::\n",
      "\n",
      "        from sklearn.datasets import fetch_openml\n",
      "        housing = fetch_openml(name=\"house_prices\", as_frame=True)\n",
      "\n",
      "    for the Ames housing dataset.\n",
      "    \n",
      "  warnings.warn(msg, category=FutureWarning)\n"
     ]
    }
   ],
   "source": [
    "from sklearn.datasets import load_boston\n",
    "X, y = load_boston(return_X_y=True)\n",
    "print(X.shape)"
   ]
  },
  {
   "cell_type": "code",
   "execution_count": 5,
   "id": "bd1df6b4",
   "metadata": {},
   "outputs": [],
   "source": [
    "import numpy as np\n",
    "\n",
    "#Let's import the PCA alghoritm from sklearn and reduce to 2 dimensions \n",
    "from sklearn.decomposition import PCA\n",
    "\n",
    "pca = PCA(n_components = 2)\n",
    "pca.fit(X)\n",
    "\n",
    "#Let's transform the data, pca_x represents the new reduced data\n",
    "pca_X = pca.transform(X)"
   ]
  },
  {
   "cell_type": "code",
   "execution_count": 6,
   "id": "11c7e925",
   "metadata": {},
   "outputs": [
    {
     "data": {
      "text/plain": [
       "array([[-119.81884272,   -5.56005586],\n",
       "       [-168.89015548,   10.11620863],\n",
       "       [-169.31170747,   14.0805323 ],\n",
       "       ...,\n",
       "       [-138.38716306,    0.9380922 ],\n",
       "       [-137.50517338,    4.2518251 ],\n",
       "       [-139.19033295,    1.00906423]])"
      ]
     },
     "execution_count": 6,
     "metadata": {},
     "output_type": "execute_result"
    }
   ],
   "source": [
    "pca_X"
   ]
  },
  {
   "cell_type": "code",
   "execution_count": 9,
   "id": "a2a6b7a2",
   "metadata": {},
   "outputs": [
    {
     "name": "stdout",
     "output_type": "stream",
     "text": [
      "(506, 2)\n"
     ]
    }
   ],
   "source": [
    "print(pca_X.shape)"
   ]
  },
  {
   "cell_type": "code",
   "execution_count": null,
   "id": "4b2b6784",
   "metadata": {},
   "outputs": [],
   "source": []
  }
 ],
 "metadata": {
  "kernelspec": {
   "display_name": "Python 3 (ipykernel)",
   "language": "python",
   "name": "python3"
  },
  "language_info": {
   "codemirror_mode": {
    "name": "ipython",
    "version": 3
   },
   "file_extension": ".py",
   "mimetype": "text/x-python",
   "name": "python",
   "nbconvert_exporter": "python",
   "pygments_lexer": "ipython3",
   "version": "3.7.9"
  }
 },
 "nbformat": 4,
 "nbformat_minor": 5
}
