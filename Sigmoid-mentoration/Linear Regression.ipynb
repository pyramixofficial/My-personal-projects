{
 "cells": [
  {
   "cell_type": "code",
   "execution_count": 1,
   "id": "69f3d791",
   "metadata": {},
   "outputs": [],
   "source": [
    "import numpy as np"
   ]
  },
  {
   "cell_type": "code",
   "execution_count": 2,
   "id": "4fb45b09",
   "metadata": {},
   "outputs": [],
   "source": [
    "class LinearRegression():\n",
    "    '''\n",
    "    Handmade Linear regression library\n",
    "    '''\n",
    "    def __init__(self):\n",
    "        '''\n",
    "        Initializing the Linear Regression model.\n",
    "        Stroing the self.params__ varibale, which will be the weights that the model returns\n",
    "        '''\n",
    "        self.params__ = None\n",
    "        \n",
    "    def gradientDescent(self, X, y, learning_rate = 0.00001, iterations = 500, batch_size = 16):\n",
    "        '''\n",
    "        This function applies Gradient Descent model onto the dataset\n",
    "        : param X: numpy . ndarray\n",
    "            The X matrix containing the independent variable columns .\n",
    "        : param y : numpy . ndarray\n",
    "            The target vector y.\n",
    "        '''\n",
    "        \n",
    "        #Adding column of ones for the constant term\n",
    "        X = np.concatenate([X, np.ones_like(y)], axis = 1)\n",
    "        rows, cols = X.shape\n",
    "        \n",
    "        #Combining the X and y columns to more easily shuffle it later\n",
    "        X = np.append(X, y, axis = 1)\n",
    "        \n",
    "        #Making a random guess for w\n",
    "        w = np.random.random((cols, 1))\n",
    "        \n",
    "        #Going through all the iterations\n",
    "        for i in range(iterations):\n",
    "            #Shuffle the rows of the data\n",
    "            np.random.shuffle(X)\n",
    "            #Define X and y again\n",
    "            y_it = X[:, -1].reshape((rows, 1))\n",
    "            X_it = X[:, :-1]\n",
    "            \n",
    "            #Iterate through the batches\n",
    "            for batch in range(math.ceil(rows / batch_size)):\n",
    "                batch_start = batch * batch_size\n",
    "                #Cutting a batch from the dataset\n",
    "                x_batch = X_it[batch_start : min(batch_start + batch_size, X.shape[0])]\n",
    "                \n",
    "                y_batch = y_it[batch_start : min(batch_start + batch_size, X.shape[0])]\n",
    "                \n",
    "                #Subtracting the gradient from our previous estimation\n",
    "                w -= learning_rate * np.matmul(x_batch.transpose(), (np.matmul(x_batch, w) - y_batch))\n",
    "    \n",
    "    def predict(self, X):\n",
    "        X = np.concatenate([X, np.ones(X.shape[0]).reshape((X.shpe[0], 1))], axis = 1)\n",
    "        \n",
    "        return np.matmul(X, self.params__)"
   ]
  },
  {
   "cell_type": "code",
   "execution_count": 10,
   "id": "d8acd60e",
   "metadata": {},
   "outputs": [],
   "source": [
    "from sklearn.model_selection import train_test_split\n",
    "from sklearn.metrics import mean_squared_error , mean_absolute_error\n",
    "from sklearn.linear_model import LinearRegression"
   ]
  },
  {
   "cell_type": "code",
   "execution_count": 5,
   "id": "b0f2d8ee",
   "metadata": {},
   "outputs": [],
   "source": [
    "#Defining some mock-up data\n",
    "#Creating a 10x2 matrix with random integers in the range 0-100\n",
    "X = np.linspace(0, 100, 100).reshape(100, 1)\n",
    "#Defining a random noise vector to add onto the vector y\n",
    "e = np.random.uniform(-5, 5, (100, 1))\n",
    "#Defining the vector y = 3*x + e\n",
    "y = 3*X + e"
   ]
  },
  {
   "cell_type": "code",
   "execution_count": 6,
   "id": "b77ccedd",
   "metadata": {},
   "outputs": [],
   "source": [
    "#Splitting the data\n",
    "X_train, X_test, y_train, y_test = train_test_split(X, y, test_size = 0.3, random_state = 42)"
   ]
  },
  {
   "cell_type": "code",
   "execution_count": 11,
   "id": "9da7b3dc",
   "metadata": {},
   "outputs": [
    {
     "data": {
      "text/plain": [
       "LinearRegression()"
      ]
     },
     "execution_count": 11,
     "metadata": {},
     "output_type": "execute_result"
    }
   ],
   "source": [
    "#Creating an instange of the Linear regression class from sklearn\n",
    "lr = LinearRegression()\n",
    "\n",
    "#Calling the fit function, which applies the Linear Regression model onto the data\n",
    "lr.fit(X_train, y_train)"
   ]
  },
  {
   "cell_type": "code",
   "execution_count": 13,
   "id": "6fb1d6f7",
   "metadata": {},
   "outputs": [
    {
     "data": {
      "text/plain": [
       "(7.989277012522664, 2.4236296358468206)"
      ]
     },
     "execution_count": 13,
     "metadata": {},
     "output_type": "execute_result"
    }
   ],
   "source": [
    "y_pred = lr.predict(X_test)\n",
    "mean_squared_error(y_pred, y_test), mean_absolute_error(y_pred, y_test)"
   ]
  },
  {
   "cell_type": "code",
   "execution_count": null,
   "id": "f4cae39d",
   "metadata": {},
   "outputs": [],
   "source": []
  }
 ],
 "metadata": {
  "kernelspec": {
   "display_name": "Python 3 (ipykernel)",
   "language": "python",
   "name": "python3"
  },
  "language_info": {
   "codemirror_mode": {
    "name": "ipython",
    "version": 3
   },
   "file_extension": ".py",
   "mimetype": "text/x-python",
   "name": "python",
   "nbconvert_exporter": "python",
   "pygments_lexer": "ipython3",
   "version": "3.7.9"
  }
 },
 "nbformat": 4,
 "nbformat_minor": 5
}
