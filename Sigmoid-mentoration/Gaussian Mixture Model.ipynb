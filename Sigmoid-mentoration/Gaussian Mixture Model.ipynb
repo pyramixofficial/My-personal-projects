{
 "cells": [
  {
   "cell_type": "code",
   "execution_count": 1,
   "id": "26a9c143",
   "metadata": {},
   "outputs": [],
   "source": [
    "import numpy as np\n",
    "import pandas as pd"
   ]
  },
  {
   "cell_type": "code",
   "execution_count": null,
   "id": "7f99e070",
   "metadata": {},
   "outputs": [],
   "source": [
    "class GMM():\n",
    "    def __init__(self, n_components, max_iter = 100, comp_names = None):\n",
    "        '''\n",
    "            This function intializes the model by seting the following parameters:\n",
    "        :param n_components: int\n",
    "            The number of clusters in which the alghoritm must split the data set\n",
    "        :param max_iter:int, default = 100\n",
    "            The number of iteratoin that the algorithm will got hrow to find the clusters\n",
    "        :param comp_names: list of strings, default = None\n",
    "            In case it is setted as a list of string it will use to name the clusters\n",
    "        \n",
    "        '''\n",
    "        self.n_components =n_components\n",
    "        self.max_iter = max_iter\n",
    "        if comp_names == None:\n",
    "            self.comp_names = [f\"comp{index}\" for index in range(self.n_components)]\n",
    "        else:\n",
    "            self.comp_names = comp_names\n",
    "        #pi list contains the fraction of the dataset for every cluster\n",
    "        self.pi = [1/self.n_components for comp in range(self.n_components)]\n",
    "        \n",
    "    def fit(self, X):\n",
    "        '''\n",
    "            The function for training the model\n",
    "        :param X: 2-d numpy array\n",
    "            The data must be passed to the algorithm as 2-d array, \n",
    "            where columns are the features and the rows are the samples\n",
    "        '''\n",
    "        #Splitting the data in n_components sub-sets\n",
    "        new_X = np.array_split(X, self.n_components)\n",
    "        \n",
    "        #Initial computation of the mean-vector and covarience matrix\n",
    "        self.mean_vector = [np.mean(x, axis = 0) for x in new_X]\n",
    "        self.covariance_matrixes = [np.cov(x.T) for x in new_X]\n",
    "        \n",
    "        del new_X\n",
    "        \n",
    "        #Initiating the r matrix, every row contains the probabilities for every cluster for this row\n",
    "        self.r = np.zeros((len(X), self.n_components))\n",
    "        #Calculating the r matrix\n",
    "        for n in range(len(X)):\n",
    "            for k in range(self.n_components):\n",
    "                self.r[n][k] = self.pi[k]*self.mmultivariate_normal(X[n],\n",
    "                self.mean_vector[k], self.covariance_matrixes[k])\n",
    "                self.r[n][k] /= sum([self.pi[j]*self.multivariate_normal(X[n],\n",
    "                self.mean_vector[j], self.covariance_matrixes[j]) for j in range(self.n_components)])\n",
    "        #Calculating the N\n",
    "        N = np.sum(self.r, axis = 0)\n",
    "        \n",
    "  "
   ]
  },
  {
   "cell_type": "code",
   "execution_count": null,
   "id": "6ed90831",
   "metadata": {},
   "outputs": [],
   "source": []
  }
 ],
 "metadata": {
  "kernelspec": {
   "display_name": "Python 3 (ipykernel)",
   "language": "python",
   "name": "python3"
  },
  "language_info": {
   "codemirror_mode": {
    "name": "ipython",
    "version": 3
   },
   "file_extension": ".py",
   "mimetype": "text/x-python",
   "name": "python",
   "nbconvert_exporter": "python",
   "pygments_lexer": "ipython3",
   "version": "3.7.9"
  }
 },
 "nbformat": 4,
 "nbformat_minor": 5
}
