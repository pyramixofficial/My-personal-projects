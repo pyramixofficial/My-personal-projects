{
 "cells": [
  {
   "cell_type": "code",
   "execution_count": 1,
   "id": "66b5f2bf",
   "metadata": {},
   "outputs": [
    {
     "ename": "NameError",
     "evalue": "name 'LogisticRegression' is not defined",
     "output_type": "error",
     "traceback": [
      "\u001b[1;31m---------------------------------------------------------------------------\u001b[0m",
      "\u001b[1;31mNameError\u001b[0m                                 Traceback (most recent call last)",
      "\u001b[1;32m~\\AppData\\Local\\Temp/ipykernel_10180/2996359992.py\u001b[0m in \u001b[0;36m<module>\u001b[1;34m\u001b[0m\n\u001b[0;32m      1\u001b[0m \u001b[1;32mimport\u001b[0m \u001b[0mnumpy\u001b[0m \u001b[1;32mas\u001b[0m \u001b[0mnp\u001b[0m\u001b[1;33m\u001b[0m\u001b[1;33m\u001b[0m\u001b[0m\n\u001b[1;32m----> 2\u001b[1;33m \u001b[1;32mclass\u001b[0m \u001b[0mLogisticRegression\u001b[0m\u001b[1;33m:\u001b[0m\u001b[1;33m\u001b[0m\u001b[1;33m\u001b[0m\u001b[0m\n\u001b[0m\u001b[0;32m      3\u001b[0m     \u001b[1;32mdef\u001b[0m \u001b[0m__init__\u001b[0m\u001b[1;33m(\u001b[0m\u001b[0mself\u001b[0m\u001b[1;33m,\u001b[0m \u001b[0mlearning_rate\u001b[0m \u001b[1;33m:\u001b[0m \u001b[0mfloat\u001b[0m \u001b[1;33m=\u001b[0m \u001b[1;36m0.05\u001b[0m\u001b[1;33m,\u001b[0m \u001b[0mmax_inter\u001b[0m \u001b[1;33m:\u001b[0m \u001b[0mint\u001b[0m \u001b[1;33m=\u001b[0m \u001b[1;36m100000\u001b[0m\u001b[1;33m)\u001b[0m \u001b[1;33m->\u001b[0m\u001b[1;32mNone\u001b[0m\u001b[1;33m:\u001b[0m\u001b[1;33m\u001b[0m\u001b[1;33m\u001b[0m\u001b[0m\n\u001b[0;32m      4\u001b[0m         '''\n\u001b[0;32m      5\u001b[0m         \u001b[0mThe\u001b[0m \u001b[0mconstructor\u001b[0m \u001b[0mof\u001b[0m \u001b[0mthe\u001b[0m \u001b[0mLogistic\u001b[0m \u001b[0mRegression\u001b[0m \u001b[0mmodel\u001b[0m\u001b[1;33m.\u001b[0m\u001b[1;33m\u001b[0m\u001b[1;33m\u001b[0m\u001b[0m\n",
      "\u001b[1;32m~\\AppData\\Local\\Temp/ipykernel_10180/2996359992.py\u001b[0m in \u001b[0;36mLogisticRegression\u001b[1;34m()\u001b[0m\n\u001b[0;32m     22\u001b[0m         \u001b[1;32mreturn\u001b[0m \u001b[1;36m1\u001b[0m \u001b[1;33m/\u001b[0m \u001b[1;33m(\u001b[0m\u001b[1;36m1\u001b[0m\u001b[1;33m+\u001b[0m\u001b[0mnp\u001b[0m\u001b[1;33m.\u001b[0m\u001b[0mexp\u001b[0m\u001b[1;33m(\u001b[0m\u001b[1;33m-\u001b[0m\u001b[0my\u001b[0m\u001b[1;33m)\u001b[0m\u001b[1;33m)\u001b[0m\u001b[1;33m\u001b[0m\u001b[1;33m\u001b[0m\u001b[0m\n\u001b[0;32m     23\u001b[0m \u001b[1;33m\u001b[0m\u001b[0m\n\u001b[1;32m---> 24\u001b[1;33m     \u001b[1;32mdef\u001b[0m \u001b[0mfit\u001b[0m\u001b[1;33m(\u001b[0m\u001b[0mself\u001b[0m\u001b[1;33m,\u001b[0m \u001b[0mX\u001b[0m\u001b[1;33m:\u001b[0m\u001b[1;34m'np.array'\u001b[0m\u001b[1;33m,\u001b[0m \u001b[0my\u001b[0m \u001b[1;33m:\u001b[0m\u001b[1;34m'np.array'\u001b[0m\u001b[1;33m)\u001b[0m \u001b[1;33m->\u001b[0m \u001b[0mLogisticRegression\u001b[0m\u001b[1;33m:\u001b[0m\u001b[1;33m\u001b[0m\u001b[1;33m\u001b[0m\u001b[0m\n\u001b[0m\u001b[0;32m     25\u001b[0m         '''\n\u001b[0;32m     26\u001b[0m             \u001b[0mThe\u001b[0m \u001b[0mfit\u001b[0m \u001b[0mfunction\u001b[0m \u001b[0mof\u001b[0m \u001b[0mthe\u001b[0m \u001b[0mmodel\u001b[0m\u001b[1;33m.\u001b[0m\u001b[1;33m\u001b[0m\u001b[1;33m\u001b[0m\u001b[0m\n",
      "\u001b[1;31mNameError\u001b[0m: name 'LogisticRegression' is not defined"
     ]
    }
   ],
   "source": [
    "import numpy as np\n",
    "class LogisticRegression:\n",
    "    def __init__(self, learning_rate : float = 0.05, max_inter : int = 100000) ->None:\n",
    "        '''\n",
    "        The constructor of the Logistic Regression model.\n",
    "            :param learning_rate:float, default=0.05\n",
    "                The learning rate of the model\n",
    "            :param max_inter: int, default = 100000\n",
    "                The number of iteration to go throw\n",
    "        \n",
    "        '''\n",
    "        #Setting use of the hyperparameters\n",
    "        self.__learning_rate = learning_rate\n",
    "        self.__max_inter = max_inter\n",
    "    \n",
    "    def sigmoid(self, y : 'np.array') -> 'np.array':\n",
    "        '''\n",
    "        The sigmoid function\n",
    "            :param y: np.array\n",
    "                The predictions of the linear function\n",
    "        '''\n",
    "        return 1 / (1+np.exp(-y))\n",
    "    \n",
    "    def fit(self, X:'np.array', y :'np.array') -> LogisticRegression:\n",
    "        '''\n",
    "            The fit function of the model.\n",
    "                :param X: 2-d np.array\n",
    "                    The matrix with the features.\n",
    "                :param y: 1-d np.array\n",
    "                    The target vector\n",
    "        '''\n",
    "        #Creating the weights vector\n",
    "        self.coef_ = np.zeros(len(X[0] + 1))\n",
    "        \n",
    "        #Adding the intercept column\n",
    "        X = np.hstack((X, np.ones((len(x), 1))))\n",
    "        \n",
    "        #The weights updating process:\n",
    "        for i in range(self.__max_iter):\n",
    "            #Prediction\n",
    "            pred = self.sigmoid(np.dot(X, self.coef_))\n",
    "            \n",
    "            #Coputing the gradient\n",
    "            gradient = np.dot(X.T, (pred - y)) / y.size\n",
    "            \n",
    "            #Updating the weights\n",
    "            self.coef_ -= gradient * self.__learning_rate\n",
    "            \n",
    "        return self\n",
    "    \n",
    "    def predict_proba(self, X : 'np.array') -> 'np.array':\n",
    "        '''\n",
    "        This function returns the class probabilities\n",
    "            :param X: 2-d np.array\n",
    "                The features matrix\n",
    "            :return: 2-d, np.array\n",
    "                The array with the probabilities for every class for every sample\n",
    "        '''\n",
    "        #Adding the intercept column\n",
    "        X = np.hstack((X, np.ones((len(X), 1))))\n",
    "        \n",
    "        #Computing the probabilites\n",
    "        prob = self.sigmoid(np.dot(X, self.coef_))\n",
    "        \n",
    "        #Returning the probabilities\n",
    "        return np.hstack(((1 - prob).reshape(-1, 1), prob.reshape(-1, 1)))\n",
    "    \n",
    "    def predict(self, X:'np.array') -> 'np.array':\n",
    "        '''\n",
    "        This funciton returns the predictions of the model\n",
    "            :param X: 2-d np.array\n",
    "                The features matrix\n",
    "            :return: 2-d, np.array\n",
    "                The array with the probabilities for every class for every sample\n",
    "        '''\n",
    "        #Adding the intercept column\n",
    "        X = np.hstack((X, np.ones((len(X), 1))))\n",
    "        return (self.sigmoid(np.dot(X, self.coef_)) > 0.5) * 1"
   ]
  },
  {
   "cell_type": "code",
   "execution_count": 2,
   "id": "a8992bb3",
   "metadata": {},
   "outputs": [],
   "source": [
    "#Logistic Regression using model from sklearn\n",
    "from sklearn.datasets import load_iris\n",
    "from sklearn.linear_model import LogisticRegression\n"
   ]
  },
  {
   "cell_type": "code",
   "execution_count": 3,
   "id": "b6eda9d7",
   "metadata": {},
   "outputs": [],
   "source": [
    "#Getting the feature matric and target vector fromiris data set\n",
    "X, y = load_iris(return_X_y = True)"
   ]
  },
  {
   "cell_type": "code",
   "execution_count": 4,
   "id": "ffb788cb",
   "metadata": {},
   "outputs": [],
   "source": [
    "#Creating the model\n",
    "clf = LogisticRegression(random_state = 0)"
   ]
  },
  {
   "cell_type": "code",
   "execution_count": 5,
   "id": "49b0225a",
   "metadata": {},
   "outputs": [
    {
     "name": "stderr",
     "output_type": "stream",
     "text": [
      "C:\\Users\\balam\\AppData\\Roaming\\Python\\Python37\\site-packages\\sklearn\\linear_model\\_logistic.py:818: ConvergenceWarning: lbfgs failed to converge (status=1):\n",
      "STOP: TOTAL NO. of ITERATIONS REACHED LIMIT.\n",
      "\n",
      "Increase the number of iterations (max_iter) or scale the data as shown in:\n",
      "    https://scikit-learn.org/stable/modules/preprocessing.html\n",
      "Please also refer to the documentation for alternative solver options:\n",
      "    https://scikit-learn.org/stable/modules/linear_model.html#logistic-regression\n",
      "  extra_warning_msg=_LOGISTIC_SOLVER_CONVERGENCE_MSG,\n"
     ]
    },
    {
     "data": {
      "text/plain": [
       "LogisticRegression(random_state=0)"
      ]
     },
     "execution_count": 5,
     "metadata": {},
     "output_type": "execute_result"
    }
   ],
   "source": [
    "#Fitting the model\n",
    "clf.fit(X, y)"
   ]
  },
  {
   "cell_type": "code",
   "execution_count": 6,
   "id": "4b5bdde2",
   "metadata": {},
   "outputs": [],
   "source": [
    "#Making predictions with the Logistic Regression modelî\n",
    "y_pred = clf.predict(X)"
   ]
  },
  {
   "cell_type": "code",
   "execution_count": 7,
   "id": "e2b3c125",
   "metadata": {},
   "outputs": [
    {
     "data": {
      "text/plain": [
       "array([0, 0, 0, 0, 0, 0, 0, 0, 0, 0, 0, 0, 0, 0, 0, 0, 0, 0, 0, 0, 0, 0,\n",
       "       0, 0, 0, 0, 0, 0, 0, 0, 0, 0, 0, 0, 0, 0, 0, 0, 0, 0, 0, 0, 0, 0,\n",
       "       0, 0, 0, 0, 0, 0, 1, 1, 1, 1, 1, 1, 1, 1, 1, 1, 1, 1, 1, 1, 1, 1,\n",
       "       1, 1, 1, 1, 2, 1, 1, 1, 1, 1, 1, 2, 1, 1, 1, 1, 1, 2, 1, 1, 1, 1,\n",
       "       1, 1, 1, 1, 1, 1, 1, 1, 1, 1, 1, 1, 2, 2, 2, 2, 2, 2, 1, 2, 2, 2,\n",
       "       2, 2, 2, 2, 2, 2, 2, 2, 2, 2, 2, 2, 2, 2, 2, 2, 2, 2, 2, 2, 2, 2,\n",
       "       2, 2, 2, 2, 2, 2, 2, 2, 2, 2, 2, 2, 2, 2, 2, 2, 2, 2])"
      ]
     },
     "execution_count": 7,
     "metadata": {},
     "output_type": "execute_result"
    }
   ],
   "source": [
    "y_pred"
   ]
  },
  {
   "cell_type": "code",
   "execution_count": null,
   "id": "cd6fc705",
   "metadata": {},
   "outputs": [],
   "source": []
  }
 ],
 "metadata": {
  "kernelspec": {
   "display_name": "Python 3 (ipykernel)",
   "language": "python",
   "name": "python3"
  },
  "language_info": {
   "codemirror_mode": {
    "name": "ipython",
    "version": 3
   },
   "file_extension": ".py",
   "mimetype": "text/x-python",
   "name": "python",
   "nbconvert_exporter": "python",
   "pygments_lexer": "ipython3",
   "version": "3.7.9"
  }
 },
 "nbformat": 4,
 "nbformat_minor": 5
}
