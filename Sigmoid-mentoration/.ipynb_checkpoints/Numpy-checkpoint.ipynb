{
 "cells": [
  {
   "cell_type": "code",
   "execution_count": 2,
   "id": "b984d22d",
   "metadata": {},
   "outputs": [],
   "source": [
    "import numpy as np"
   ]
  },
  {
   "cell_type": "code",
   "execution_count": 3,
   "id": "1f917783",
   "metadata": {},
   "outputs": [
    {
     "data": {
      "text/plain": [
       "array([[[5, 1, 4, 0, 9],\n",
       "        [5, 8, 0, 9, 2],\n",
       "        [6, 3, 8, 2, 4],\n",
       "        [2, 6, 4, 8, 6]],\n",
       "\n",
       "       [[1, 3, 8, 1, 9],\n",
       "        [8, 9, 4, 1, 3],\n",
       "        [6, 7, 2, 0, 3],\n",
       "        [1, 7, 3, 1, 5]],\n",
       "\n",
       "       [[5, 9, 3, 5, 1],\n",
       "        [9, 1, 9, 3, 7],\n",
       "        [6, 8, 7, 4, 1],\n",
       "        [4, 7, 9, 8, 8]]])"
      ]
     },
     "execution_count": 3,
     "metadata": {},
     "output_type": "execute_result"
    }
   ],
   "source": [
    "#Seeting up the seed\n",
    "np.random.seed(42)\n",
    "#Generating an array of integers\n",
    "vector = np.random.randint(10, size = 6)\n",
    "matrix = np.random.randint(10, size = (3, 4))\n",
    "tensor = np.random.randint(10, size = (3, 4, 5))\n",
    "\n",
    "tensor"
   ]
  },
  {
   "cell_type": "code",
   "execution_count": 4,
   "id": "5de35265",
   "metadata": {},
   "outputs": [
    {
     "name": "stdout",
     "output_type": "stream",
     "text": [
      "vector - 1\n",
      "matrix - 2\n",
      "tensor - 3\n"
     ]
    }
   ],
   "source": [
    "#Functions to find out more about dimensionality\n",
    "print(f'vector - {vector.ndim}')\n",
    "print(f'matrix - {matrix.ndim}')\n",
    "print(f'tensor - {tensor.ndim}')\n"
   ]
  },
  {
   "cell_type": "code",
   "execution_count": 5,
   "id": "215315e0",
   "metadata": {},
   "outputs": [
    {
     "name": "stdout",
     "output_type": "stream",
     "text": [
      "vector - (6,)\n",
      "matrix - (3, 4)\n",
      "tensor - (3, 4, 5)\n"
     ]
    }
   ],
   "source": [
    "#Functions to find out the shape of the array \n",
    "print(f'vector - {vector.shape}')\n",
    "print(f'matrix - {matrix.shape}')\n",
    "print(f'tensor - {tensor.shape}')"
   ]
  },
  {
   "cell_type": "code",
   "execution_count": 6,
   "id": "2e31525b",
   "metadata": {},
   "outputs": [
    {
     "name": "stdout",
     "output_type": "stream",
     "text": [
      "vector - 6\n",
      "matrix - 12\n",
      "tensor - 60\n"
     ]
    }
   ],
   "source": [
    "#Functions to find out the number of elements in the array\n",
    "print(f'vector - {vector.size}')\n",
    "print(f'matrix - {matrix.size}')\n",
    "print(f'tensor - {tensor.size}')"
   ]
  },
  {
   "cell_type": "code",
   "execution_count": 7,
   "id": "e2c73df8",
   "metadata": {},
   "outputs": [
    {
     "name": "stdout",
     "output_type": "stream",
     "text": [
      "vector - int32\n",
      "matrix - int32\n",
      "tensor - int32\n"
     ]
    }
   ],
   "source": [
    "#Functions to find out the data type of the array\n",
    "print(f'vector - {vector.dtype}')\n",
    "print(f'matrix - {matrix.dtype}')\n",
    "print(f'tensor - {tensor.dtype}')"
   ]
  },
  {
   "cell_type": "code",
   "execution_count": 8,
   "id": "f33775fb",
   "metadata": {},
   "outputs": [
    {
     "name": "stdout",
     "output_type": "stream",
     "text": [
      "one dimensional - array[0] = 6\n",
      "two dimensional - matrix[0][0] = 2\n",
      "three dimensional - tensor[0][0][0] = 5\n"
     ]
    }
   ],
   "source": [
    "#Getting the first element of different sizes of arrays\n",
    "print(f'one dimensional - array[0] = {vector[0]}')\n",
    "print(f'two dimensional - matrix[0][0] = {matrix[0][0]}')\n",
    "print(f'three dimensional - tensor[0][0][0] = {tensor[0][0][0]}')"
   ]
  },
  {
   "cell_type": "markdown",
   "id": "4f6c7168",
   "metadata": {},
   "source": [
    "# Slicing vectors and matrices"
   ]
  },
  {
   "cell_type": "code",
   "execution_count": 9,
   "id": "225f7ce6",
   "metadata": {},
   "outputs": [
    {
     "data": {
      "text/plain": [
       "array([6, 3, 7])"
      ]
     },
     "execution_count": 9,
     "metadata": {},
     "output_type": "execute_result"
    }
   ],
   "source": [
    "#Getting the first 3 elements of the array\n",
    "vector[:3]"
   ]
  },
  {
   "cell_type": "code",
   "execution_count": 10,
   "id": "06a4c1b9",
   "metadata": {},
   "outputs": [
    {
     "data": {
      "text/plain": [
       "array([4, 6, 9])"
      ]
     },
     "execution_count": 10,
     "metadata": {},
     "output_type": "execute_result"
    }
   ],
   "source": [
    "#Getting the last 3 elements of the array\n",
    "vector[3:]"
   ]
  },
  {
   "cell_type": "code",
   "execution_count": 11,
   "id": "e39fd1d8",
   "metadata": {},
   "outputs": [
    {
     "data": {
      "text/plain": [
       "array([6, 7, 6])"
      ]
     },
     "execution_count": 11,
     "metadata": {},
     "output_type": "execute_result"
    }
   ],
   "source": [
    "#Gettin all every 2 element of the array\n",
    "vector[::2]"
   ]
  },
  {
   "cell_type": "code",
   "execution_count": 12,
   "id": "f47eb599",
   "metadata": {},
   "outputs": [
    {
     "data": {
      "text/plain": [
       "array([[2, 7],\n",
       "       [3, 7],\n",
       "       [5, 1]])"
      ]
     },
     "execution_count": 12,
     "metadata": {},
     "output_type": "execute_result"
    }
   ],
   "source": [
    "#Getting only the even column\n",
    "matrix[:, ::2]"
   ]
  },
  {
   "cell_type": "code",
   "execution_count": 13,
   "id": "30d60f5f",
   "metadata": {},
   "outputs": [
    {
     "data": {
      "text/plain": [
       "array([[2, 6, 7],\n",
       "       [3, 7, 7],\n",
       "       [5, 4, 1]])"
      ]
     },
     "execution_count": 13,
     "metadata": {},
     "output_type": "execute_result"
    }
   ],
   "source": [
    "#Getting only the first half of columns\n",
    "matrix[:, :3]"
   ]
  },
  {
   "cell_type": "code",
   "execution_count": 14,
   "id": "f85f5ef3",
   "metadata": {},
   "outputs": [
    {
     "data": {
      "text/plain": [
       "array([ 6, 99,  7,  4,  6,  9])"
      ]
     },
     "execution_count": 14,
     "metadata": {},
     "output_type": "execute_result"
    }
   ],
   "source": [
    "#Changing values in array\n",
    "vector[1] = 99\n",
    "vector"
   ]
  },
  {
   "cell_type": "code",
   "execution_count": 15,
   "id": "d82ff659",
   "metadata": {},
   "outputs": [
    {
     "data": {
      "text/plain": [
       "array([[0, 6, 7, 4],\n",
       "       [0, 7, 7, 2],\n",
       "       [0, 4, 1, 7]])"
      ]
     },
     "execution_count": 15,
     "metadata": {},
     "output_type": "execute_result"
    }
   ],
   "source": [
    "#Changing more values using slicing\n",
    "matrix[:, 0] = np.zeros(3)\n",
    "matrix"
   ]
  },
  {
   "cell_type": "code",
   "execution_count": 16,
   "id": "573fed48",
   "metadata": {},
   "outputs": [
    {
     "data": {
      "text/plain": [
       "array([0., 0., 0.])"
      ]
     },
     "execution_count": 16,
     "metadata": {},
     "output_type": "execute_result"
    }
   ],
   "source": [
    "#Creating a zero filled vector\n",
    "np.zeros(3)"
   ]
  },
  {
   "cell_type": "code",
   "execution_count": 17,
   "id": "bf15b7dc",
   "metadata": {},
   "outputs": [
    {
     "data": {
      "text/plain": [
       "array([[0., 0., 0., 0., 0.],\n",
       "       [0., 0., 0., 0., 0.],\n",
       "       [0., 0., 0., 0., 0.]])"
      ]
     },
     "execution_count": 17,
     "metadata": {},
     "output_type": "execute_result"
    }
   ],
   "source": [
    "#If we pass tupel of values the function will create an array with more dimensions\n",
    "np.zeros((3, 5))"
   ]
  },
  {
   "cell_type": "code",
   "execution_count": 18,
   "id": "9733cc8a",
   "metadata": {},
   "outputs": [
    {
     "data": {
      "text/plain": [
       "array([1., 1., 1.])"
      ]
     },
     "execution_count": 18,
     "metadata": {},
     "output_type": "execute_result"
    }
   ],
   "source": [
    "#By the same logic works np.ones function\n",
    "np.ones(3)"
   ]
  },
  {
   "cell_type": "code",
   "execution_count": 19,
   "id": "1b6afd00",
   "metadata": {},
   "outputs": [
    {
     "data": {
      "text/plain": [
       "array([[1., 1., 1.],\n",
       "       [1., 1., 1.],\n",
       "       [1., 1., 1.],\n",
       "       [1., 1., 1.],\n",
       "       [1., 1., 1.]])"
      ]
     },
     "execution_count": 19,
     "metadata": {},
     "output_type": "execute_result"
    }
   ],
   "source": [
    "np.ones((5, 3))"
   ]
  },
  {
   "cell_type": "markdown",
   "id": "ee3ad85c",
   "metadata": {},
   "source": [
    "## Creation of copies of arrays in python"
   ]
  },
  {
   "cell_type": "code",
   "execution_count": 20,
   "id": "6efaaeb9",
   "metadata": {},
   "outputs": [
    {
     "name": "stdout",
     "output_type": "stream",
     "text": [
      "2547503185520\n",
      "2547503185520\n"
     ]
    }
   ],
   "source": [
    "fake_copy = vector\n",
    "\n",
    "#Verifying ids to check if they have the same memory adress\n",
    "print(id(fake_copy))\n",
    "print(id(vector))"
   ]
  },
  {
   "cell_type": "code",
   "execution_count": 21,
   "id": "82c94da4",
   "metadata": {},
   "outputs": [
    {
     "name": "stdout",
     "output_type": "stream",
     "text": [
      "2548012190384\n",
      "2547503185520\n"
     ]
    }
   ],
   "source": [
    "#For creating a real copy we need to use the copy function\n",
    "real_copy = vector.copy()\n",
    "\n",
    "#Checking for the adresses\n",
    "print(id(real_copy))\n",
    "print(id(vector))"
   ]
  },
  {
   "cell_type": "code",
   "execution_count": 22,
   "id": "f247dd03",
   "metadata": {},
   "outputs": [
    {
     "name": "stdout",
     "output_type": "stream",
     "text": [
      "[ 6 99  7  4  6  9]\n",
      "[ 6 99  7  4  6  9]\n",
      "[ 6 99  7  4  6  9]\n"
     ]
    }
   ],
   "source": [
    "#Let's see the differences\n",
    "print(vector)\n",
    "print(fake_copy)\n",
    "print(real_copy)"
   ]
  },
  {
   "cell_type": "code",
   "execution_count": 23,
   "id": "57ea6abb",
   "metadata": {},
   "outputs": [
    {
     "name": "stdout",
     "output_type": "stream",
     "text": [
      "[99 99  7  4  6  9]\n",
      "[99 99  7  4  6  9]\n",
      "[ 6 99  7  4  6  9]\n"
     ]
    }
   ],
   "source": [
    "#Changing the vector\n",
    "vector[0] = 99\n",
    "\n",
    "#printing the output\n",
    "print(vector)\n",
    "print(fake_copy)\n",
    "print(real_copy)"
   ]
  },
  {
   "cell_type": "code",
   "execution_count": 24,
   "id": "fcb6faa3",
   "metadata": {},
   "outputs": [
    {
     "data": {
      "text/plain": [
       "array([1, 2, 3, 4, 5, 6])"
      ]
     },
     "execution_count": 24,
     "metadata": {},
     "output_type": "execute_result"
    }
   ],
   "source": [
    "#Concatinating arrays\n",
    "x1 = np.array([1, 2, 3])\n",
    "x2 = np.array([4, 5, 6])\n",
    "np.concatenate([x1, x2])"
   ]
  },
  {
   "cell_type": "code",
   "execution_count": 25,
   "id": "58040353",
   "metadata": {},
   "outputs": [
    {
     "data": {
      "text/plain": [
       "array([[1, 2, 3],\n",
       "       [4, 5, 6],\n",
       "       [1, 2, 3],\n",
       "       [4, 5, 6]])"
      ]
     },
     "execution_count": 25,
     "metadata": {},
     "output_type": "execute_result"
    }
   ],
   "source": [
    "#Concatinating on different axis\n",
    "matrix = np.array([[1, 2, 3],\n",
    "                  [4, 5, 6]])\n",
    "np.concatenate([matrix, matrix])"
   ]
  },
  {
   "cell_type": "code",
   "execution_count": 26,
   "id": "738655c7",
   "metadata": {},
   "outputs": [
    {
     "data": {
      "text/plain": [
       "array([[1, 2, 3, 1, 2, 3],\n",
       "       [4, 5, 6, 4, 5, 6]])"
      ]
     },
     "execution_count": 26,
     "metadata": {},
     "output_type": "execute_result"
    }
   ],
   "source": [
    "#To concatenate two matrices on columns we should set the parameter axis=1\n",
    "np.concatenate([matrix, matrix], axis = 1)"
   ]
  },
  {
   "cell_type": "code",
   "execution_count": 27,
   "id": "858da4c6",
   "metadata": {},
   "outputs": [
    {
     "data": {
      "text/plain": [
       "'\\naxis is saying to the function on which axis to concatenate, \\non which dimension on the array to appy it\\naxis = 1 means the columns\\naxis = 0 means the rows\\n'"
      ]
     },
     "execution_count": 27,
     "metadata": {},
     "output_type": "execute_result"
    }
   ],
   "source": [
    "'''\n",
    "axis is saying to the function on which axis to concatenate, \n",
    "on which dimension on the array to appy it\n",
    "axis = 1 means the columns\n",
    "axis = 0 means the rows\n",
    "'''"
   ]
  },
  {
   "cell_type": "code",
   "execution_count": 28,
   "id": "f507d855",
   "metadata": {},
   "outputs": [
    {
     "data": {
      "text/plain": [
       "array([[1, 2, 3],\n",
       "       [4, 5, 6],\n",
       "       [7, 8, 9]])"
      ]
     },
     "execution_count": 28,
     "metadata": {},
     "output_type": "execute_result"
    }
   ],
   "source": [
    "#You can also use vstack and hstack\n",
    "#Vstack is used to stack vertically arrays\n",
    "x = np.array([1, 2, 3])\n",
    "grid = np.array([[4, 5, 6],\n",
    "                [7, 8, 9]])\n",
    "np.vstack([x, grid])"
   ]
  },
  {
   "cell_type": "code",
   "execution_count": 29,
   "id": "b3640dad",
   "metadata": {},
   "outputs": [
    {
     "data": {
      "text/plain": [
       "array([[99,  4,  5,  6],\n",
       "       [99,  7,  8,  9]])"
      ]
     },
     "execution_count": 29,
     "metadata": {},
     "output_type": "execute_result"
    }
   ],
   "source": [
    "#Hstack is used to stack horizontally arrays\n",
    "x = np.array([[99],\n",
    "             [99]])\n",
    "np.hstack([x, grid])"
   ]
  },
  {
   "cell_type": "markdown",
   "id": "c7e715e1",
   "metadata": {},
   "source": [
    "## Splitting"
   ]
  },
  {
   "cell_type": "code",
   "execution_count": 31,
   "id": "d951efae",
   "metadata": {},
   "outputs": [
    {
     "name": "stdout",
     "output_type": "stream",
     "text": [
      "[1 2 3 4 5]\n",
      "[ 6  7  8  9 10]\n"
     ]
    }
   ],
   "source": [
    "x = np.array([1, 2, 3, 4, 5, 6, 7, 8, 9, 10])\n",
    "\n",
    "#Splitting the array in two parts at the index 5\n",
    "first, second = np.split(x, [5])\n",
    "print(first)\n",
    "print(second)"
   ]
  },
  {
   "cell_type": "code",
   "execution_count": 32,
   "id": "986ea7aa",
   "metadata": {},
   "outputs": [
    {
     "data": {
      "text/plain": [
       "array([[ 0,  1,  2,  3],\n",
       "       [ 4,  5,  6,  7],\n",
       "       [ 8,  9, 10, 11],\n",
       "       [12, 13, 14, 15]])"
      ]
     },
     "execution_count": 32,
     "metadata": {},
     "output_type": "execute_result"
    }
   ],
   "source": [
    "matrix = np.arange(16).reshape((4, 4))\n",
    "matrix"
   ]
  },
  {
   "cell_type": "code",
   "execution_count": 33,
   "id": "136c811f",
   "metadata": {},
   "outputs": [
    {
     "name": "stdout",
     "output_type": "stream",
     "text": [
      "[[0 1 2 3]\n",
      " [4 5 6 7]]\n",
      "[[ 8  9 10 11]\n",
      " [12 13 14 15]]\n"
     ]
    }
   ],
   "source": [
    "#vsplit allows us to split a multi - dimensional array on a vertical axis\n",
    "upper, lower = np.vsplit(matrix, [2])\n",
    "print(upper)\n",
    "print(lower)"
   ]
  },
  {
   "cell_type": "code",
   "execution_count": 34,
   "id": "63696c09",
   "metadata": {},
   "outputs": [
    {
     "name": "stdout",
     "output_type": "stream",
     "text": [
      "[[ 0  1]\n",
      " [ 4  5]\n",
      " [ 8  9]\n",
      " [12 13]]\n",
      "[[ 2  3]\n",
      " [ 6  7]\n",
      " [10 11]\n",
      " [14 15]]\n"
     ]
    }
   ],
   "source": [
    "#hsplit allows us to split a multi-dimensional array on horizontal axis\n",
    "matrix = np.arange(16).reshape(4, 4)\n",
    "left, right = np.hsplit(matrix, [2])\n",
    "print(left)\n",
    "print(right)"
   ]
  },
  {
   "cell_type": "markdown",
   "id": "e907e188",
   "metadata": {},
   "source": [
    "## Timing different methods"
   ]
  },
  {
   "cell_type": "code",
   "execution_count": 36,
   "id": "b916e64f",
   "metadata": {},
   "outputs": [
    {
     "data": {
      "text/plain": [
       "array([1.        , 0.125     , 0.125     , 0.33333333, 1.        ])"
      ]
     },
     "execution_count": 36,
     "metadata": {},
     "output_type": "execute_result"
    }
   ],
   "source": [
    "def compute_inverse(values):\n",
    "    #np.empty generate array that can be filled after\n",
    "    out = np.empty(len(values))\n",
    "    for i in range(len(values)):\n",
    "        out[i] = 1.0 / values[i]\n",
    "    return out\n",
    "\n",
    "values = np.random.randint(1, 10, size = 5)\n",
    "compute_inverse(values)"
   ]
  },
  {
   "cell_type": "code",
   "execution_count": 37,
   "id": "a503d079",
   "metadata": {},
   "outputs": [],
   "source": [
    "big_array = np.random.randint(1, 100, size = 1_000_000)"
   ]
  },
  {
   "cell_type": "code",
   "execution_count": 38,
   "id": "a39dcf23",
   "metadata": {},
   "outputs": [
    {
     "name": "stdout",
     "output_type": "stream",
     "text": [
      "2.68 s ± 0 ns per loop (mean ± std. dev. of 1 run, 1 loop each)\n"
     ]
    }
   ],
   "source": [
    "%%timeit -n 1 -r 1\n",
    "compute_inverse(big_array)"
   ]
  },
  {
   "cell_type": "code",
   "execution_count": 39,
   "id": "87bfa43f",
   "metadata": {},
   "outputs": [
    {
     "name": "stdout",
     "output_type": "stream",
     "text": [
      "[0.125      0.02857143 0.02857143 ... 0.02       0.09090909 0.01041667]\n",
      "4.29 ms ± 0 ns per loop (mean ± std. dev. of 1 run, 1 loop each)\n"
     ]
    }
   ],
   "source": [
    "%%timeit -n 1 -r 1\n",
    "print(1.0 / big_array)"
   ]
  },
  {
   "cell_type": "markdown",
   "id": "cd665251",
   "metadata": {},
   "source": [
    "## Array operations"
   ]
  },
  {
   "cell_type": "code",
   "execution_count": 40,
   "id": "12fea502",
   "metadata": {},
   "outputs": [
    {
     "data": {
      "text/plain": [
       "array([ 2,  3,  4,  5,  6,  7,  8,  9, 10, 11])"
      ]
     },
     "execution_count": 40,
     "metadata": {},
     "output_type": "execute_result"
    }
   ],
   "source": [
    "#Creating an orderes array\n",
    "x = np.arange(10)\n",
    "#Addition\n",
    "x+2"
   ]
  },
  {
   "cell_type": "code",
   "execution_count": 41,
   "id": "8956ac6b",
   "metadata": {},
   "outputs": [
    {
     "data": {
      "text/plain": [
       "array([-2, -1,  0,  1,  2,  3,  4,  5,  6,  7])"
      ]
     },
     "execution_count": 41,
     "metadata": {},
     "output_type": "execute_result"
    }
   ],
   "source": [
    "#Substraction\n",
    "x-2"
   ]
  },
  {
   "cell_type": "code",
   "execution_count": 42,
   "id": "02883b2d",
   "metadata": {},
   "outputs": [
    {
     "data": {
      "text/plain": [
       "array([ 0,  3,  6,  9, 12, 15, 18, 21, 24, 27])"
      ]
     },
     "execution_count": 42,
     "metadata": {},
     "output_type": "execute_result"
    }
   ],
   "source": [
    "#Multiplication\n",
    "x*3"
   ]
  },
  {
   "cell_type": "code",
   "execution_count": 44,
   "id": "7298914f",
   "metadata": {},
   "outputs": [
    {
     "data": {
      "text/plain": [
       "array([0.  , 0.25, 0.5 , 0.75, 1.  , 1.25, 1.5 , 1.75, 2.  , 2.25])"
      ]
     },
     "execution_count": 44,
     "metadata": {},
     "output_type": "execute_result"
    }
   ],
   "source": [
    "#Division\n",
    "x/4"
   ]
  },
  {
   "cell_type": "code",
   "execution_count": 45,
   "id": "311cba93",
   "metadata": {},
   "outputs": [
    {
     "data": {
      "text/plain": [
       "array([0, 0, 0, 0, 1, 1, 1, 1, 2, 2], dtype=int32)"
      ]
     },
     "execution_count": 45,
     "metadata": {},
     "output_type": "execute_result"
    }
   ],
   "source": [
    "#Floor Division\n",
    "x // 4"
   ]
  },
  {
   "cell_type": "code",
   "execution_count": 46,
   "id": "061499ec",
   "metadata": {},
   "outputs": [
    {
     "data": {
      "text/plain": [
       "array([ 0,  1,  4,  9, 16, 25, 36, 49, 64, 81], dtype=int32)"
      ]
     },
     "execution_count": 46,
     "metadata": {},
     "output_type": "execute_result"
    }
   ],
   "source": [
    "#Power\n",
    "x** 2"
   ]
  },
  {
   "cell_type": "code",
   "execution_count": 47,
   "id": "e2f15f56",
   "metadata": {},
   "outputs": [
    {
     "data": {
      "text/plain": [
       "array([0, 1, 2, 0, 1, 2, 0, 1, 2, 0], dtype=int32)"
      ]
     },
     "execution_count": 47,
     "metadata": {},
     "output_type": "execute_result"
    }
   ],
   "source": [
    "#the rest of the division\n",
    "x%3"
   ]
  },
  {
   "cell_type": "markdown",
   "id": "64a42bdb",
   "metadata": {},
   "source": [
    "## NUMPY VERSION OF OPERATIONS"
   ]
  },
  {
   "cell_type": "code",
   "execution_count": 48,
   "id": "2f081c6e",
   "metadata": {},
   "outputs": [
    {
     "data": {
      "text/plain": [
       "array([ 2,  3,  4,  5,  6,  7,  8,  9, 10, 11])"
      ]
     },
     "execution_count": 48,
     "metadata": {},
     "output_type": "execute_result"
    }
   ],
   "source": [
    "#Addition\n",
    "np.add(x, 2)"
   ]
  },
  {
   "cell_type": "code",
   "execution_count": 50,
   "id": "bac1cd12",
   "metadata": {},
   "outputs": [
    {
     "data": {
      "text/plain": [
       "array([-2, -1,  0,  1,  2,  3,  4,  5,  6,  7])"
      ]
     },
     "execution_count": 50,
     "metadata": {},
     "output_type": "execute_result"
    }
   ],
   "source": [
    "#Subtraction\n",
    "np.subtract(x, 2)"
   ]
  },
  {
   "cell_type": "code",
   "execution_count": 51,
   "id": "67f5c688",
   "metadata": {},
   "outputs": [
    {
     "data": {
      "text/plain": [
       "array([ 0,  2,  4,  6,  8, 10, 12, 14, 16, 18])"
      ]
     },
     "execution_count": 51,
     "metadata": {},
     "output_type": "execute_result"
    }
   ],
   "source": [
    "#Multiplication\n",
    "np.multiply(x, 2)"
   ]
  },
  {
   "cell_type": "code",
   "execution_count": 52,
   "id": "472b659a",
   "metadata": {},
   "outputs": [
    {
     "data": {
      "text/plain": [
       "array([0. , 0.5, 1. , 1.5, 2. , 2.5, 3. , 3.5, 4. , 4.5])"
      ]
     },
     "execution_count": 52,
     "metadata": {},
     "output_type": "execute_result"
    }
   ],
   "source": [
    "#Division\n",
    "np.divide(x, 2)"
   ]
  },
  {
   "cell_type": "code",
   "execution_count": 53,
   "id": "81f544fe",
   "metadata": {},
   "outputs": [
    {
     "data": {
      "text/plain": [
       "array([0. , 0.5, 1. , 1.5, 2. , 2.5, 3. , 3.5, 4. , 4.5])"
      ]
     },
     "execution_count": 53,
     "metadata": {},
     "output_type": "execute_result"
    }
   ],
   "source": [
    "#True Division\n",
    "np.true_divide(x, 2)"
   ]
  },
  {
   "cell_type": "code",
   "execution_count": 54,
   "id": "85b06dc6",
   "metadata": {},
   "outputs": [
    {
     "data": {
      "text/plain": [
       "array([0, 0, 1, 1, 2, 2, 3, 3, 4, 4], dtype=int32)"
      ]
     },
     "execution_count": 54,
     "metadata": {},
     "output_type": "execute_result"
    }
   ],
   "source": [
    "#Floor Divsion\n",
    "np.floor_divide(x, 2)"
   ]
  },
  {
   "cell_type": "code",
   "execution_count": 55,
   "id": "56912b75",
   "metadata": {},
   "outputs": [
    {
     "data": {
      "text/plain": [
       "array([ 0,  1,  4,  9, 16, 25, 36, 49, 64, 81], dtype=int32)"
      ]
     },
     "execution_count": 55,
     "metadata": {},
     "output_type": "execute_result"
    }
   ],
   "source": [
    "#Power\n",
    "np.power(x, 2)"
   ]
  },
  {
   "cell_type": "code",
   "execution_count": 56,
   "id": "fe752628",
   "metadata": {},
   "outputs": [
    {
     "data": {
      "text/plain": [
       "array([0, 1, 0, 1, 0, 1, 0, 1, 0, 1], dtype=int32)"
      ]
     },
     "execution_count": 56,
     "metadata": {},
     "output_type": "execute_result"
    }
   ],
   "source": [
    "#Rest of division\n",
    "np.mod(x, 2)"
   ]
  },
  {
   "cell_type": "code",
   "execution_count": 57,
   "id": "b57c3ca5",
   "metadata": {},
   "outputs": [
    {
     "name": "stdout",
     "output_type": "stream",
     "text": [
      "[2 1 0 1 2]\n",
      "[2 1 0 1 2]\n",
      "[2 1 0 1 2]\n"
     ]
    }
   ],
   "source": [
    "#Finding the absoulte values of a vector \n",
    "x = np.array([-2, -1, 0, 1, 2])\n",
    "#method 1\n",
    "print(abs(x))\n",
    "#method 2\n",
    "print(np.absolute(x))\n",
    "#method 3\n",
    "print(np.abs(x))"
   ]
  },
  {
   "cell_type": "code",
   "execution_count": 58,
   "id": "37e78ce6",
   "metadata": {},
   "outputs": [
    {
     "data": {
      "text/plain": [
       "53.61596393222919"
      ]
     },
     "execution_count": 58,
     "metadata": {},
     "output_type": "execute_result"
    }
   ],
   "source": [
    "x = np.random.random(100)\n",
    "#Finding out the sum of vector in numpy\n",
    "np.sum(x)"
   ]
  },
  {
   "cell_type": "code",
   "execution_count": 59,
   "id": "df7fcb45",
   "metadata": {},
   "outputs": [
    {
     "data": {
      "text/plain": [
       "0.03408400044630544"
      ]
     },
     "execution_count": 59,
     "metadata": {},
     "output_type": "execute_result"
    }
   ],
   "source": [
    "#The minimal value in the array\n",
    "np.min(x)"
   ]
  },
  {
   "cell_type": "code",
   "execution_count": 60,
   "id": "4aff94e5",
   "metadata": {},
   "outputs": [
    {
     "data": {
      "text/plain": [
       "0.9924369280116836"
      ]
     },
     "execution_count": 60,
     "metadata": {},
     "output_type": "execute_result"
    }
   ],
   "source": [
    "#The maximal value in the array\n",
    "np.max(x)"
   ]
  },
  {
   "cell_type": "code",
   "execution_count": 62,
   "id": "b60a5ef3",
   "metadata": {},
   "outputs": [
    {
     "data": {
      "text/plain": [
       "0.5361596393222919"
      ]
     },
     "execution_count": 62,
     "metadata": {},
     "output_type": "execute_result"
    }
   ],
   "source": [
    "#The mean value in the array\n",
    "np.mean(x)"
   ]
  },
  {
   "cell_type": "code",
   "execution_count": 63,
   "id": "fe47a250",
   "metadata": {},
   "outputs": [
    {
     "data": {
      "text/plain": [
       "0.5087086870180744"
      ]
     },
     "execution_count": 63,
     "metadata": {},
     "output_type": "execute_result"
    }
   ],
   "source": [
    "#The median of an array\n",
    "np.median(x)"
   ]
  },
  {
   "cell_type": "code",
   "execution_count": 64,
   "id": "d714ee5d",
   "metadata": {},
   "outputs": [
    {
     "data": {
      "text/plain": [
       "array([[0.12583801, 0.88380128],\n",
       "       [0.1624099 , 0.63861793],\n",
       "       [0.85031049, 0.13421567],\n",
       "       [0.80839459, 0.39809619],\n",
       "       [0.18267203, 0.61944264]])"
      ]
     },
     "execution_count": 64,
     "metadata": {},
     "output_type": "execute_result"
    }
   ],
   "source": [
    "#We can use agregate functions on axies\n",
    "x2 = np.random.random((5, 2))\n",
    "x2"
   ]
  },
  {
   "cell_type": "code",
   "execution_count": 65,
   "id": "2b26c005",
   "metadata": {},
   "outputs": [
    {
     "data": {
      "text/plain": [
       "array([0.12583801, 0.1624099 , 0.13421567, 0.39809619, 0.18267203])"
      ]
     },
     "execution_count": 65,
     "metadata": {},
     "output_type": "execute_result"
    }
   ],
   "source": [
    "#Finding the minimal value for every row\n",
    "#Samelogic can be used for every aggregation function\n",
    "x2.min(axis = 1)"
   ]
  },
  {
   "cell_type": "code",
   "execution_count": 66,
   "id": "ac8b6159",
   "metadata": {},
   "outputs": [
    {
     "data": {
      "text/plain": [
       "32"
      ]
     },
     "execution_count": 66,
     "metadata": {},
     "output_type": "execute_result"
    }
   ],
   "source": [
    "#Calculating the dot product between two vectors or matrice\n",
    "a = np.array([1, 2, 3])\n",
    "b = np.array([4, 5, 6])\n",
    "np.dot(a, b)"
   ]
  },
  {
   "cell_type": "code",
   "execution_count": 67,
   "id": "69f93ed4",
   "metadata": {},
   "outputs": [
    {
     "data": {
      "text/plain": [
       "array([14, 32])"
      ]
     },
     "execution_count": 67,
     "metadata": {},
     "output_type": "execute_result"
    }
   ],
   "source": [
    "a = np.array([1, 2, 3])\n",
    "matrix = np.array([[1, 2, 3],\n",
    "                  [4, 5, 6]])\n",
    "np.dot(matrix, a)"
   ]
  },
  {
   "cell_type": "code",
   "execution_count": null,
   "id": "899469d3",
   "metadata": {},
   "outputs": [],
   "source": []
  }
 ],
 "metadata": {
  "kernelspec": {
   "display_name": "Python 3 (ipykernel)",
   "language": "python",
   "name": "python3"
  },
  "language_info": {
   "codemirror_mode": {
    "name": "ipython",
    "version": 3
   },
   "file_extension": ".py",
   "mimetype": "text/x-python",
   "name": "python",
   "nbconvert_exporter": "python",
   "pygments_lexer": "ipython3",
   "version": "3.7.9"
  }
 },
 "nbformat": 4,
 "nbformat_minor": 5
}
