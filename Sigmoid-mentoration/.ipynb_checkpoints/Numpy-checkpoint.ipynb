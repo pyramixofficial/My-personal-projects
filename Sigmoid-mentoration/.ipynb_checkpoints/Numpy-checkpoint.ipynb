{
 "cells": [
  {
   "cell_type": "code",
   "execution_count": 2,
   "id": "b984d22d",
   "metadata": {},
   "outputs": [],
   "source": [
    "import numpy as np"
   ]
  },
  {
   "cell_type": "code",
   "execution_count": 3,
   "id": "1f917783",
   "metadata": {},
   "outputs": [
    {
     "data": {
      "text/plain": [
       "array([[[5, 1, 4, 0, 9],\n",
       "        [5, 8, 0, 9, 2],\n",
       "        [6, 3, 8, 2, 4],\n",
       "        [2, 6, 4, 8, 6]],\n",
       "\n",
       "       [[1, 3, 8, 1, 9],\n",
       "        [8, 9, 4, 1, 3],\n",
       "        [6, 7, 2, 0, 3],\n",
       "        [1, 7, 3, 1, 5]],\n",
       "\n",
       "       [[5, 9, 3, 5, 1],\n",
       "        [9, 1, 9, 3, 7],\n",
       "        [6, 8, 7, 4, 1],\n",
       "        [4, 7, 9, 8, 8]]])"
      ]
     },
     "execution_count": 3,
     "metadata": {},
     "output_type": "execute_result"
    }
   ],
   "source": [
    "#Seeting up the seed\n",
    "np.random.seed(42)\n",
    "#Generating an array of integers\n",
    "vector = np.random.randint(10, size = 6)\n",
    "matrix = np.random.randint(10, size = (3, 4))\n",
    "tensor = np.random.randint(10, size = (3, 4, 5))\n",
    "\n",
    "tensor"
   ]
  },
  {
   "cell_type": "code",
   "execution_count": 4,
   "id": "5de35265",
   "metadata": {},
   "outputs": [
    {
     "name": "stdout",
     "output_type": "stream",
     "text": [
      "vector - 1\n",
      "matrix - 2\n",
      "tensor - 3\n"
     ]
    }
   ],
   "source": [
    "#Functions to find out more about dimensionality\n",
    "print(f'vector - {vector.ndim}')\n",
    "print(f'matrix - {matrix.ndim}')\n",
    "print(f'tensor - {tensor.ndim}')\n"
   ]
  },
  {
   "cell_type": "code",
   "execution_count": 5,
   "id": "215315e0",
   "metadata": {},
   "outputs": [
    {
     "name": "stdout",
     "output_type": "stream",
     "text": [
      "vector - (6,)\n",
      "matrix - (3, 4)\n",
      "tensor - (3, 4, 5)\n"
     ]
    }
   ],
   "source": [
    "#Functions to find out the shape of the array \n",
    "print(f'vector - {vector.shape}')\n",
    "print(f'matrix - {matrix.shape}')\n",
    "print(f'tensor - {tensor.shape}')"
   ]
  },
  {
   "cell_type": "code",
   "execution_count": 6,
   "id": "2e31525b",
   "metadata": {},
   "outputs": [
    {
     "name": "stdout",
     "output_type": "stream",
     "text": [
      "vector - 6\n",
      "matrix - 12\n",
      "tensor - 60\n"
     ]
    }
   ],
   "source": [
    "#Functions to find out the number of elements in the array\n",
    "print(f'vector - {vector.size}')\n",
    "print(f'matrix - {matrix.size}')\n",
    "print(f'tensor - {tensor.size}')"
   ]
  },
  {
   "cell_type": "code",
   "execution_count": 7,
   "id": "e2c73df8",
   "metadata": {},
   "outputs": [
    {
     "name": "stdout",
     "output_type": "stream",
     "text": [
      "vector - int32\n",
      "matrix - int32\n",
      "tensor - int32\n"
     ]
    }
   ],
   "source": [
    "#Functions to find out the data type of the array\n",
    "print(f'vector - {vector.dtype}')\n",
    "print(f'matrix - {matrix.dtype}')\n",
    "print(f'tensor - {tensor.dtype}')"
   ]
  },
  {
   "cell_type": "code",
   "execution_count": 8,
   "id": "f33775fb",
   "metadata": {},
   "outputs": [
    {
     "name": "stdout",
     "output_type": "stream",
     "text": [
      "one dimensional - array[0] = 6\n",
      "two dimensional - matrix[0][0] = 2\n",
      "three dimensional - tensor[0][0][0] = 5\n"
     ]
    }
   ],
   "source": [
    "#Getting the first element of different sizes of arrays\n",
    "print(f'one dimensional - array[0] = {vector[0]}')\n",
    "print(f'two dimensional - matrix[0][0] = {matrix[0][0]}')\n",
    "print(f'three dimensional - tensor[0][0][0] = {tensor[0][0][0]}')"
   ]
  },
  {
   "cell_type": "markdown",
   "id": "4f6c7168",
   "metadata": {},
   "source": [
    "# Slicing vectors and matrices"
   ]
  },
  {
   "cell_type": "code",
   "execution_count": 9,
   "id": "225f7ce6",
   "metadata": {},
   "outputs": [
    {
     "data": {
      "text/plain": [
       "array([6, 3, 7])"
      ]
     },
     "execution_count": 9,
     "metadata": {},
     "output_type": "execute_result"
    }
   ],
   "source": [
    "#Getting the first 3 elements of the array\n",
    "vector[:3]"
   ]
  },
  {
   "cell_type": "code",
   "execution_count": 10,
   "id": "06a4c1b9",
   "metadata": {},
   "outputs": [
    {
     "data": {
      "text/plain": [
       "array([4, 6, 9])"
      ]
     },
     "execution_count": 10,
     "metadata": {},
     "output_type": "execute_result"
    }
   ],
   "source": [
    "#Getting the last 3 elements of the array\n",
    "vector[3:]"
   ]
  },
  {
   "cell_type": "code",
   "execution_count": 11,
   "id": "e39fd1d8",
   "metadata": {},
   "outputs": [
    {
     "data": {
      "text/plain": [
       "array([6, 7, 6])"
      ]
     },
     "execution_count": 11,
     "metadata": {},
     "output_type": "execute_result"
    }
   ],
   "source": [
    "#Gettin all every 2 element of the array\n",
    "vector[::2]"
   ]
  },
  {
   "cell_type": "code",
   "execution_count": 12,
   "id": "f47eb599",
   "metadata": {},
   "outputs": [
    {
     "data": {
      "text/plain": [
       "array([[2, 7],\n",
       "       [3, 7],\n",
       "       [5, 1]])"
      ]
     },
     "execution_count": 12,
     "metadata": {},
     "output_type": "execute_result"
    }
   ],
   "source": [
    "#Getting only the even column\n",
    "matrix[:, ::2]"
   ]
  },
  {
   "cell_type": "code",
   "execution_count": 13,
   "id": "30d60f5f",
   "metadata": {},
   "outputs": [
    {
     "data": {
      "text/plain": [
       "array([[2, 6, 7],\n",
       "       [3, 7, 7],\n",
       "       [5, 4, 1]])"
      ]
     },
     "execution_count": 13,
     "metadata": {},
     "output_type": "execute_result"
    }
   ],
   "source": [
    "#Getting only the first half of columns\n",
    "matrix[:, :3]"
   ]
  },
  {
   "cell_type": "code",
   "execution_count": 14,
   "id": "f85f5ef3",
   "metadata": {},
   "outputs": [
    {
     "data": {
      "text/plain": [
       "array([ 6, 99,  7,  4,  6,  9])"
      ]
     },
     "execution_count": 14,
     "metadata": {},
     "output_type": "execute_result"
    }
   ],
   "source": [
    "#Changing values in array\n",
    "vector[1] = 99\n",
    "vector"
   ]
  },
  {
   "cell_type": "code",
   "execution_count": 15,
   "id": "d82ff659",
   "metadata": {},
   "outputs": [
    {
     "data": {
      "text/plain": [
       "array([[0, 6, 7, 4],\n",
       "       [0, 7, 7, 2],\n",
       "       [0, 4, 1, 7]])"
      ]
     },
     "execution_count": 15,
     "metadata": {},
     "output_type": "execute_result"
    }
   ],
   "source": [
    "#Changing more values using slicing\n",
    "matrix[:, 0] = np.zeros(3)\n",
    "matrix"
   ]
  },
  {
   "cell_type": "code",
   "execution_count": 18,
   "id": "573fed48",
   "metadata": {},
   "outputs": [
    {
     "data": {
      "text/plain": [
       "array([0., 0., 0.])"
      ]
     },
     "execution_count": 18,
     "metadata": {},
     "output_type": "execute_result"
    }
   ],
   "source": [
    "#Creating a zero filled vector\n",
    "np.zeros(3)"
   ]
  },
  {
   "cell_type": "code",
   "execution_count": 19,
   "id": "bf15b7dc",
   "metadata": {},
   "outputs": [
    {
     "data": {
      "text/plain": [
       "array([[0., 0., 0., 0., 0.],\n",
       "       [0., 0., 0., 0., 0.],\n",
       "       [0., 0., 0., 0., 0.]])"
      ]
     },
     "execution_count": 19,
     "metadata": {},
     "output_type": "execute_result"
    }
   ],
   "source": [
    "#If we pass tupel of values the function will create an array with more dimensions\n",
    "np.zeros((3, 5))"
   ]
  },
  {
   "cell_type": "code",
   "execution_count": 20,
   "id": "9733cc8a",
   "metadata": {},
   "outputs": [
    {
     "data": {
      "text/plain": [
       "array([1., 1., 1.])"
      ]
     },
     "execution_count": 20,
     "metadata": {},
     "output_type": "execute_result"
    }
   ],
   "source": [
    "#By the same logic works np.ones function\n",
    "np.ones(3)"
   ]
  },
  {
   "cell_type": "code",
   "execution_count": 21,
   "id": "1b6afd00",
   "metadata": {},
   "outputs": [
    {
     "data": {
      "text/plain": [
       "array([[1., 1., 1.],\n",
       "       [1., 1., 1.],\n",
       "       [1., 1., 1.],\n",
       "       [1., 1., 1.],\n",
       "       [1., 1., 1.]])"
      ]
     },
     "execution_count": 21,
     "metadata": {},
     "output_type": "execute_result"
    }
   ],
   "source": [
    "np.ones((5, 3))"
   ]
  },
  {
   "cell_type": "markdown",
   "id": "ee3ad85c",
   "metadata": {},
   "source": [
    "## Creation of copies of arrays in python"
   ]
  },
  {
   "cell_type": "code",
   "execution_count": 22,
   "id": "6efaaeb9",
   "metadata": {},
   "outputs": [
    {
     "name": "stdout",
     "output_type": "stream",
     "text": [
      "1451390920144\n",
      "1451390920144\n"
     ]
    }
   ],
   "source": [
    "fake_copy = vector\n",
    "\n",
    "#Verifying ids to check if they have the same memory adress\n",
    "print(id(fake_copy))\n",
    "print(id(vector))"
   ]
  },
  {
   "cell_type": "code",
   "execution_count": 23,
   "id": "82c94da4",
   "metadata": {},
   "outputs": [
    {
     "name": "stdout",
     "output_type": "stream",
     "text": [
      "1451391069424\n",
      "1451390920144\n"
     ]
    }
   ],
   "source": [
    "#For creating a real copy we need to use the copy function\n",
    "real_copy = vector.copy()\n",
    "\n",
    "#Checking for the adresses\n",
    "print(id(real_copy))\n",
    "print(id(vector))"
   ]
  },
  {
   "cell_type": "code",
   "execution_count": 24,
   "id": "f247dd03",
   "metadata": {},
   "outputs": [
    {
     "name": "stdout",
     "output_type": "stream",
     "text": [
      "[ 6 99  7  4  6  9]\n",
      "[ 6 99  7  4  6  9]\n",
      "[ 6 99  7  4  6  9]\n"
     ]
    }
   ],
   "source": [
    "#Let's see the differences\n",
    "print(vector)\n",
    "print(fake_copy)\n",
    "print(real_copy)"
   ]
  },
  {
   "cell_type": "code",
   "execution_count": 25,
   "id": "57ea6abb",
   "metadata": {},
   "outputs": [
    {
     "name": "stdout",
     "output_type": "stream",
     "text": [
      "[99 99  7  4  6  9]\n",
      "[99 99  7  4  6  9]\n",
      "[ 6 99  7  4  6  9]\n"
     ]
    }
   ],
   "source": [
    "#Changing the vector\n",
    "vector[0] = 99\n",
    "\n",
    "#printing the output\n",
    "print(vector)\n",
    "print(fake_copy)\n",
    "print(real_copy)"
   ]
  },
  {
   "cell_type": "code",
   "execution_count": 26,
   "id": "fcb6faa3",
   "metadata": {},
   "outputs": [
    {
     "data": {
      "text/plain": [
       "array([1, 2, 3, 4, 5, 6])"
      ]
     },
     "execution_count": 26,
     "metadata": {},
     "output_type": "execute_result"
    }
   ],
   "source": [
    "#Concatinating arrays\n",
    "x1 = np.array([1, 2, 3])\n",
    "x2 = np.array([4, 5, 6])\n",
    "np.concatenate([x1, x2])"
   ]
  },
  {
   "cell_type": "code",
   "execution_count": 27,
   "id": "58040353",
   "metadata": {},
   "outputs": [
    {
     "data": {
      "text/plain": [
       "array([[1, 2, 3],\n",
       "       [4, 5, 6],\n",
       "       [1, 2, 3],\n",
       "       [4, 5, 6]])"
      ]
     },
     "execution_count": 27,
     "metadata": {},
     "output_type": "execute_result"
    }
   ],
   "source": [
    "#Concatinating on different axis\n",
    "matrix = np.array([[1, 2, 3],\n",
    "                  [4, 5, 6]])\n",
    "np.concatenate([matrix, matrix])"
   ]
  },
  {
   "cell_type": "code",
   "execution_count": 28,
   "id": "738655c7",
   "metadata": {},
   "outputs": [
    {
     "data": {
      "text/plain": [
       "array([[1, 2, 3, 1, 2, 3],\n",
       "       [4, 5, 6, 4, 5, 6]])"
      ]
     },
     "execution_count": 28,
     "metadata": {},
     "output_type": "execute_result"
    }
   ],
   "source": [
    "#To concatenate two matrices on columns we should set the parameter axis=1\n",
    "np.concatenate([matrix, matrix], axis = 1)"
   ]
  },
  {
   "cell_type": "code",
   "execution_count": 29,
   "id": "858da4c6",
   "metadata": {},
   "outputs": [
    {
     "data": {
      "text/plain": [
       "'\\naxis is saying to the function on which axis to concatenate, \\non which dimension on the array to appy it\\naxis = 1 means the columns\\naxis = 0 means the rows\\n'"
      ]
     },
     "execution_count": 29,
     "metadata": {},
     "output_type": "execute_result"
    }
   ],
   "source": [
    "'''\n",
    "axis is saying to the function on which axis to concatenate, \n",
    "on which dimension on the array to appy it\n",
    "axis = 1 means the columns\n",
    "axis = 0 means the rows\n",
    "'''"
   ]
  },
  {
   "cell_type": "code",
   "execution_count": 31,
   "id": "f507d855",
   "metadata": {},
   "outputs": [
    {
     "data": {
      "text/plain": [
       "array([[1, 2, 3],\n",
       "       [4, 5, 6],\n",
       "       [7, 8, 9]])"
      ]
     },
     "execution_count": 31,
     "metadata": {},
     "output_type": "execute_result"
    }
   ],
   "source": [
    "#You can also use vstack and hstack\n",
    "#Vstack is used to stack vertically arrays\n",
    "x = np.array([1, 2, 3])\n",
    "grid = np.array([[4, 5, 6],\n",
    "                [7, 8, 9]])\n",
    "np.vstack([x, grid])"
   ]
  },
  {
   "cell_type": "code",
   "execution_count": 32,
   "id": "b3640dad",
   "metadata": {},
   "outputs": [
    {
     "data": {
      "text/plain": [
       "array([[99,  4,  5,  6],\n",
       "       [99,  7,  8,  9]])"
      ]
     },
     "execution_count": 32,
     "metadata": {},
     "output_type": "execute_result"
    }
   ],
   "source": [
    "#Hsrack is used to stack horizontally arrays\n",
    "x = np.array([[99],\n",
    "             [99]])\n",
    "np.hstack([x, grid])"
   ]
  },
  {
   "cell_type": "code",
   "execution_count": null,
   "id": "878c5782",
   "metadata": {},
   "outputs": [],
   "source": []
  }
 ],
 "metadata": {
  "kernelspec": {
   "display_name": "Python 3 (ipykernel)",
   "language": "python",
   "name": "python3"
  },
  "language_info": {
   "codemirror_mode": {
    "name": "ipython",
    "version": 3
   },
   "file_extension": ".py",
   "mimetype": "text/x-python",
   "name": "python",
   "nbconvert_exporter": "python",
   "pygments_lexer": "ipython3",
   "version": "3.7.9"
  }
 },
 "nbformat": 4,
 "nbformat_minor": 5
}
