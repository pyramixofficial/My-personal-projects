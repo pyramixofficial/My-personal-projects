{
 "cells": [
  {
   "cell_type": "code",
   "execution_count": null,
   "id": "5e0b245e",
   "metadata": {},
   "outputs": [],
   "source": [
    "#Grid Search\n",
    "from sklearn.model_selection import GridSearchCV\n",
    "tuned_parameters = {\n",
    "    'kernel':['rbf'],\n",
    "    'gamma':[1e-3, 1e-4],\n",
    "    'C':[1, 10, 100, 1000]\n",
    "}\n",
    "clf = GridSearchCV(SVC(), tuned_parameters, scoring = 'recall')\n",
    "clf.fit(X_train, y_train)\n",
    "print(\"Best parameters found\")\n",
    "print(clf.best_params_)"
   ]
  },
  {
   "cell_type": "code",
   "execution_count": null,
   "id": "7b8b1d94",
   "metadata": {},
   "outputs": [],
   "source": [
    "#Random search\n",
    "from sklearn.model_selection import RandomizedSearchCV\n",
    "distributions = dict(C = uniform(loc = 0, scale = 4), penalty = ['12', '11'])\n",
    "clf = RandomizedSearchCV(logistic, distributions, random_state = 0)\n",
    "search = clf.fit(iris.data, iris.target)\n",
    "print(search.best_params_)"
   ]
  },
  {
   "cell_type": "code",
   "execution_count": null,
   "id": "bd233ddb",
   "metadata": {},
   "outputs": [],
   "source": []
  }
 ],
 "metadata": {
  "kernelspec": {
   "display_name": "Python 3 (ipykernel)",
   "language": "python",
   "name": "python3"
  },
  "language_info": {
   "codemirror_mode": {
    "name": "ipython",
    "version": 3
   },
   "file_extension": ".py",
   "mimetype": "text/x-python",
   "name": "python",
   "nbconvert_exporter": "python",
   "pygments_lexer": "ipython3",
   "version": "3.7.9"
  }
 },
 "nbformat": 4,
 "nbformat_minor": 5
}
