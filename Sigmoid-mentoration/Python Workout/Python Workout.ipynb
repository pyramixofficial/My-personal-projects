{
 "cells": [
  {
   "cell_type": "code",
   "execution_count": 4,
   "id": "4d2af58d",
   "metadata": {},
   "outputs": [],
   "source": [
    "import random\n",
    "def guessing_game():\n",
    "    number = random.randint(0, 100)\n",
    "    user_number = int(input(\"Guess the number\"))\n",
    "    while (number != user_number):\n",
    "        if number>user_number:\n",
    "            print('Too low')\n",
    "        else:\n",
    "            print('Too high')\n",
    "        user_number = int(input('Give another number'))\n",
    "    print('Just right')\n",
    "    return None"
   ]
  },
  {
   "cell_type": "code",
   "execution_count": 5,
   "id": "02d41568",
   "metadata": {},
   "outputs": [
    {
     "name": "stdout",
     "output_type": "stream",
     "text": [
      "Guess the number80\n",
      "Too low\n",
      "Give another number90\n",
      "Too low\n",
      "Give another number99\n",
      "Too high\n",
      "Give another number95\n",
      "Too high\n",
      "Give another number92\n",
      "Too low\n",
      "Give another number93\n",
      "Just right\n"
     ]
    }
   ],
   "source": [
    "guessing_game()"
   ]
  },
  {
   "cell_type": "code",
   "execution_count": null,
   "id": "1938d363",
   "metadata": {},
   "outputs": [],
   "source": []
  }
 ],
 "metadata": {
  "kernelspec": {
   "display_name": "Python 3 (ipykernel)",
   "language": "python",
   "name": "python3"
  },
  "language_info": {
   "codemirror_mode": {
    "name": "ipython",
    "version": 3
   },
   "file_extension": ".py",
   "mimetype": "text/x-python",
   "name": "python",
   "nbconvert_exporter": "python",
   "pygments_lexer": "ipython3",
   "version": "3.7.9"
  }
 },
 "nbformat": 4,
 "nbformat_minor": 5
}
