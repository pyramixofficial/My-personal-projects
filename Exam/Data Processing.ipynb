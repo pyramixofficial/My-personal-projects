{
 "cells": [
  {
   "cell_type": "code",
   "execution_count": 1,
   "id": "b421090b",
   "metadata": {},
   "outputs": [],
   "source": [
    "import numpy as np\n",
    "import pandas as pd\n",
    "import seaborn as sns\n",
    "import matplotlib.pyplot as plt"
   ]
  },
  {
   "cell_type": "markdown",
   "id": "a36b4d3f",
   "metadata": {},
   "source": [
    ">### So before starting the work on this notebook, I want to give you an understanding of what I am trying to achieve here. Here I want to create different versions of the dataset, by applying different techinwues of handling NaN values or Outliers and other cases. I am doing this to find the best model from the training data, and afterwards we'll apply dfferent models on the data that we've got. During this data processing steps we are going to conisder our conclusions from the data analysis notebook so wihtout further ado let's get to work."
   ]
  },
  {
   "cell_type": "code",
   "execution_count": 2,
   "id": "18584cdf",
   "metadata": {},
   "outputs": [],
   "source": [
    "df_original = pd.read_csv('data.csv')"
   ]
  },
  {
   "cell_type": "code",
   "execution_count": null,
   "id": "151810b2",
   "metadata": {},
   "outputs": [],
   "source": []
  }
 ],
 "metadata": {
  "kernelspec": {
   "display_name": "Python 3 (ipykernel)",
   "language": "python",
   "name": "python3"
  },
  "language_info": {
   "codemirror_mode": {
    "name": "ipython",
    "version": 3
   },
   "file_extension": ".py",
   "mimetype": "text/x-python",
   "name": "python",
   "nbconvert_exporter": "python",
   "pygments_lexer": "ipython3",
   "version": "3.7.9"
  }
 },
 "nbformat": 4,
 "nbformat_minor": 5
}
