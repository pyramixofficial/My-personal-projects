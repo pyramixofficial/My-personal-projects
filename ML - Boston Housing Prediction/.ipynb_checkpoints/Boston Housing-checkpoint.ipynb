{
 "cells": [
  {
   "cell_type": "code",
   "execution_count": 1,
   "id": "ec7a0031",
   "metadata": {},
   "outputs": [],
   "source": [
    "import numpy as np\n",
    "import pandas as pd\n",
    "import seaborn as sns\n",
    "import matplotlib.pyplot as plt"
   ]
  },
  {
   "cell_type": "code",
   "execution_count": 2,
   "id": "edcf3c18",
   "metadata": {},
   "outputs": [
    {
     "data": {
      "text/html": [
       "<div>\n",
       "<style scoped>\n",
       "    .dataframe tbody tr th:only-of-type {\n",
       "        vertical-align: middle;\n",
       "    }\n",
       "\n",
       "    .dataframe tbody tr th {\n",
       "        vertical-align: top;\n",
       "    }\n",
       "\n",
       "    .dataframe thead th {\n",
       "        text-align: right;\n",
       "    }\n",
       "</style>\n",
       "<table border=\"1\" class=\"dataframe\">\n",
       "  <thead>\n",
       "    <tr style=\"text-align: right;\">\n",
       "      <th></th>\n",
       "      <th>CRIM</th>\n",
       "      <th>ZN</th>\n",
       "      <th>INDUS</th>\n",
       "      <th>CHAS</th>\n",
       "      <th>NOX</th>\n",
       "      <th>RM</th>\n",
       "      <th>AGE</th>\n",
       "      <th>DIS</th>\n",
       "      <th>RAD</th>\n",
       "      <th>TAX</th>\n",
       "      <th>PTRATIO</th>\n",
       "      <th>B</th>\n",
       "      <th>LSTAT</th>\n",
       "      <th>MEDV</th>\n",
       "    </tr>\n",
       "  </thead>\n",
       "  <tbody>\n",
       "    <tr>\n",
       "      <th>0</th>\n",
       "      <td>0.00632</td>\n",
       "      <td>18.0</td>\n",
       "      <td>2.31</td>\n",
       "      <td>0.0</td>\n",
       "      <td>0.538</td>\n",
       "      <td>6.575</td>\n",
       "      <td>65.2</td>\n",
       "      <td>4.0900</td>\n",
       "      <td>1</td>\n",
       "      <td>296</td>\n",
       "      <td>15.3</td>\n",
       "      <td>396.90</td>\n",
       "      <td>4.98</td>\n",
       "      <td>24.0</td>\n",
       "    </tr>\n",
       "    <tr>\n",
       "      <th>1</th>\n",
       "      <td>0.02731</td>\n",
       "      <td>0.0</td>\n",
       "      <td>7.07</td>\n",
       "      <td>0.0</td>\n",
       "      <td>0.469</td>\n",
       "      <td>6.421</td>\n",
       "      <td>78.9</td>\n",
       "      <td>4.9671</td>\n",
       "      <td>2</td>\n",
       "      <td>242</td>\n",
       "      <td>17.8</td>\n",
       "      <td>396.90</td>\n",
       "      <td>9.14</td>\n",
       "      <td>21.6</td>\n",
       "    </tr>\n",
       "    <tr>\n",
       "      <th>2</th>\n",
       "      <td>0.02729</td>\n",
       "      <td>0.0</td>\n",
       "      <td>7.07</td>\n",
       "      <td>0.0</td>\n",
       "      <td>0.469</td>\n",
       "      <td>7.185</td>\n",
       "      <td>61.1</td>\n",
       "      <td>4.9671</td>\n",
       "      <td>2</td>\n",
       "      <td>242</td>\n",
       "      <td>17.8</td>\n",
       "      <td>392.83</td>\n",
       "      <td>4.03</td>\n",
       "      <td>34.7</td>\n",
       "    </tr>\n",
       "    <tr>\n",
       "      <th>3</th>\n",
       "      <td>0.03237</td>\n",
       "      <td>0.0</td>\n",
       "      <td>2.18</td>\n",
       "      <td>0.0</td>\n",
       "      <td>0.458</td>\n",
       "      <td>6.998</td>\n",
       "      <td>45.8</td>\n",
       "      <td>6.0622</td>\n",
       "      <td>3</td>\n",
       "      <td>222</td>\n",
       "      <td>18.7</td>\n",
       "      <td>394.63</td>\n",
       "      <td>2.94</td>\n",
       "      <td>33.4</td>\n",
       "    </tr>\n",
       "    <tr>\n",
       "      <th>4</th>\n",
       "      <td>0.06905</td>\n",
       "      <td>0.0</td>\n",
       "      <td>2.18</td>\n",
       "      <td>0.0</td>\n",
       "      <td>0.458</td>\n",
       "      <td>7.147</td>\n",
       "      <td>54.2</td>\n",
       "      <td>6.0622</td>\n",
       "      <td>3</td>\n",
       "      <td>222</td>\n",
       "      <td>18.7</td>\n",
       "      <td>396.90</td>\n",
       "      <td>NaN</td>\n",
       "      <td>36.2</td>\n",
       "    </tr>\n",
       "  </tbody>\n",
       "</table>\n",
       "</div>"
      ],
      "text/plain": [
       "      CRIM    ZN  INDUS  CHAS    NOX     RM   AGE     DIS  RAD  TAX  PTRATIO  \\\n",
       "0  0.00632  18.0   2.31   0.0  0.538  6.575  65.2  4.0900    1  296     15.3   \n",
       "1  0.02731   0.0   7.07   0.0  0.469  6.421  78.9  4.9671    2  242     17.8   \n",
       "2  0.02729   0.0   7.07   0.0  0.469  7.185  61.1  4.9671    2  242     17.8   \n",
       "3  0.03237   0.0   2.18   0.0  0.458  6.998  45.8  6.0622    3  222     18.7   \n",
       "4  0.06905   0.0   2.18   0.0  0.458  7.147  54.2  6.0622    3  222     18.7   \n",
       "\n",
       "        B  LSTAT  MEDV  \n",
       "0  396.90   4.98  24.0  \n",
       "1  396.90   9.14  21.6  \n",
       "2  392.83   4.03  34.7  \n",
       "3  394.63   2.94  33.4  \n",
       "4  396.90    NaN  36.2  "
      ]
     },
     "execution_count": 2,
     "metadata": {},
     "output_type": "execute_result"
    }
   ],
   "source": [
    "data = pd.read_csv('data.csv')\n",
    "data.head()"
   ]
  },
  {
   "cell_type": "code",
   "execution_count": 3,
   "id": "e7bf7f3d",
   "metadata": {},
   "outputs": [
    {
     "name": "stdout",
     "output_type": "stream",
     "text": [
      "<class 'pandas.core.frame.DataFrame'>\n",
      "RangeIndex: 506 entries, 0 to 505\n",
      "Data columns (total 14 columns):\n",
      " #   Column   Non-Null Count  Dtype  \n",
      "---  ------   --------------  -----  \n",
      " 0   CRIM     486 non-null    float64\n",
      " 1   ZN       486 non-null    float64\n",
      " 2   INDUS    486 non-null    float64\n",
      " 3   CHAS     486 non-null    float64\n",
      " 4   NOX      506 non-null    float64\n",
      " 5   RM       506 non-null    float64\n",
      " 6   AGE      486 non-null    float64\n",
      " 7   DIS      506 non-null    float64\n",
      " 8   RAD      506 non-null    int64  \n",
      " 9   TAX      506 non-null    int64  \n",
      " 10  PTRATIO  506 non-null    float64\n",
      " 11  B        506 non-null    float64\n",
      " 12  LSTAT    486 non-null    float64\n",
      " 13  MEDV     506 non-null    float64\n",
      "dtypes: float64(12), int64(2)\n",
      "memory usage: 55.5 KB\n"
     ]
    }
   ],
   "source": [
    "#Data preparation\n",
    "data.info()"
   ]
  },
  {
   "cell_type": "code",
   "execution_count": 4,
   "id": "b04c1a83",
   "metadata": {},
   "outputs": [],
   "source": [
    "for col in data:\n",
    "    if(data[col].isnull().sum()!=0):\n",
    "        data[col]=data[col].fillna(data[col].dropna().mean())"
   ]
  },
  {
   "cell_type": "code",
   "execution_count": 5,
   "id": "90e65a9d",
   "metadata": {},
   "outputs": [
    {
     "name": "stdout",
     "output_type": "stream",
     "text": [
      "<class 'pandas.core.frame.DataFrame'>\n",
      "RangeIndex: 506 entries, 0 to 505\n",
      "Data columns (total 14 columns):\n",
      " #   Column   Non-Null Count  Dtype  \n",
      "---  ------   --------------  -----  \n",
      " 0   CRIM     506 non-null    float64\n",
      " 1   ZN       506 non-null    float64\n",
      " 2   INDUS    506 non-null    float64\n",
      " 3   CHAS     506 non-null    float64\n",
      " 4   NOX      506 non-null    float64\n",
      " 5   RM       506 non-null    float64\n",
      " 6   AGE      506 non-null    float64\n",
      " 7   DIS      506 non-null    float64\n",
      " 8   RAD      506 non-null    int64  \n",
      " 9   TAX      506 non-null    int64  \n",
      " 10  PTRATIO  506 non-null    float64\n",
      " 11  B        506 non-null    float64\n",
      " 12  LSTAT    506 non-null    float64\n",
      " 13  MEDV     506 non-null    float64\n",
      "dtypes: float64(12), int64(2)\n",
      "memory usage: 55.5 KB\n"
     ]
    }
   ],
   "source": [
    "data.info()"
   ]
  },
  {
   "cell_type": "code",
   "execution_count": 6,
   "id": "66d82672",
   "metadata": {},
   "outputs": [
    {
     "name": "stdout",
     "output_type": "stream",
     "text": [
      "AxesSubplot(0.125,0.125;0.775x0.755)\n",
      "AxesSubplot(0.125,0.125;0.775x0.755)\n"
     ]
    },
    {
     "name": "stderr",
     "output_type": "stream",
     "text": [
      "C:\\Users\\balam\\AppData\\Roaming\\Python\\Python37\\site-packages\\seaborn\\_decorators.py:43: FutureWarning: Pass the following variables as keyword args: x, y. From version 0.12, the only valid positional argument will be `data`, and passing other arguments without an explicit keyword will result in an error or misinterpretation.\n",
      "  FutureWarning\n",
      "C:\\Users\\balam\\AppData\\Roaming\\Python\\Python37\\site-packages\\seaborn\\_decorators.py:43: FutureWarning: Pass the following variables as keyword args: x, y. From version 0.12, the only valid positional argument will be `data`, and passing other arguments without an explicit keyword will result in an error or misinterpretation.\n",
      "  FutureWarning\n"
     ]
    },
    {
     "data": {
      "image/png": "[encoded data removed]",
      "text/plain": [
       "<Figure size 432x288 with 1 Axes>"
      ]
     },
     "metadata": {
      "needs_background": "light"
     },
     "output_type": "display_data"
    }
   ],
   "source": [
    "#Analyzing data\n",
    "\n",
    "print(sns.scatterplot(data['CRIM'], data['MEDV']))\n",
    "print(sns.scatterplot(data['ZN'], data['MEDV']))"
   ]
  },
  {
   "cell_type": "code",
   "execution_count": 7,
   "id": "716a1eb9",
   "metadata": {},
   "outputs": [
    {
     "name": "stdout",
     "output_type": "stream",
     "text": [
      "AxesSubplot(0.125,0.125;0.775x0.755)\n"
     ]
    },
    {
     "name": "stderr",
     "output_type": "stream",
     "text": [
      "C:\\Users\\balam\\AppData\\Roaming\\Python\\Python37\\site-packages\\seaborn\\_decorators.py:43: FutureWarning: Pass the following variables as keyword args: x, y. From version 0.12, the only valid positional argument will be `data`, and passing other arguments without an explicit keyword will result in an error or misinterpretation.\n",
      "  FutureWarning\n",
      "C:\\Users\\balam\\AppData\\Roaming\\Python\\Python37\\site-packages\\seaborn\\_decorators.py:43: FutureWarning: Pass the following variables as keyword args: x, y. From version 0.12, the only valid positional argument will be `data`, and passing other arguments without an explicit keyword will result in an error or misinterpretation.\n",
      "  FutureWarning\n"
     ]
    },
    {
     "name": "stdout",
     "output_type": "stream",
     "text": [
      "AxesSubplot(0.125,0.125;0.775x0.755)\n"
     ]
    },
    {
     "data": {
      "image/png": "[encoded data removed]",
      "text/plain": [
       "<Figure size 432x288 with 1 Axes>"
      ]
     },
     "metadata": {
      "needs_background": "light"
     },
     "output_type": "display_data"
    }
   ],
   "source": [
    "print(sns.scatterplot(data['INDUS'], data['MEDV']))\n",
    "print(sns.scatterplot(data['CHAS'], data['MEDV']))"
   ]
  },
  {
   "cell_type": "code",
   "execution_count": 8,
   "id": "ba0bdea4",
   "metadata": {},
   "outputs": [
    {
     "name": "stdout",
     "output_type": "stream",
     "text": [
      "AxesSubplot(0.125,0.125;0.775x0.755)\n",
      "AxesSubplot(0.125,0.125;0.775x0.755)\n"
     ]
    },
    {
     "name": "stderr",
     "output_type": "stream",
     "text": [
      "C:\\Users\\balam\\AppData\\Roaming\\Python\\Python37\\site-packages\\seaborn\\_decorators.py:43: FutureWarning: Pass the following variables as keyword args: x, y. From version 0.12, the only valid positional argument will be `data`, and passing other arguments without an explicit keyword will result in an error or misinterpretation.\n",
      "  FutureWarning\n",
      "C:\\Users\\balam\\AppData\\Roaming\\Python\\Python37\\site-packages\\seaborn\\_decorators.py:43: FutureWarning: Pass the following variables as keyword args: x, y. From version 0.12, the only valid positional argument will be `data`, and passing other arguments without an explicit keyword will result in an error or misinterpretation.\n",
      "  FutureWarning\n"
     ]
    },
    {
     "data": {
      "image/png": "[encoded data removed]",
      "text/plain": [
       "<Figure size 432x288 with 1 Axes>"
      ]
     },
     "metadata": {
      "needs_background": "light"
     },
     "output_type": "display_data"
    }
   ],
   "source": [
    "print(sns.scatterplot(data['NOX'], data['MEDV']))\n",
    "print(sns.scatterplot(data['RM'], data['MEDV']))"
   ]
  },
  {
   "cell_type": "code",
   "execution_count": 9,
   "id": "5dd36e56",
   "metadata": {},
   "outputs": [
    {
     "name": "stdout",
     "output_type": "stream",
     "text": [
      "AxesSubplot(0.125,0.125;0.775x0.755)\n",
      "AxesSubplot(0.125,0.125;0.775x0.755)\n"
     ]
    },
    {
     "name": "stderr",
     "output_type": "stream",
     "text": [
      "C:\\Users\\balam\\AppData\\Roaming\\Python\\Python37\\site-packages\\seaborn\\_decorators.py:43: FutureWarning: Pass the following variables as keyword args: x, y. From version 0.12, the only valid positional argument will be `data`, and passing other arguments without an explicit keyword will result in an error or misinterpretation.\n",
      "  FutureWarning\n",
      "C:\\Users\\balam\\AppData\\Roaming\\Python\\Python37\\site-packages\\seaborn\\_decorators.py:43: FutureWarning: Pass the following variables as keyword args: x, y. From version 0.12, the only valid positional argument will be `data`, and passing other arguments without an explicit keyword will result in an error or misinterpretation.\n",
      "  FutureWarning\n"
     ]
    },
    {
     "data": {
      "image/png": "[encoded data removed]",
      "text/plain": [
       "<Figure size 432x288 with 1 Axes>"
      ]
     },
     "metadata": {
      "needs_background": "light"
     },
     "output_type": "display_data"
    }
   ],
   "source": [
    "print(sns.scatterplot(data['AGE'], data['MEDV']))\n",
    "print(sns.scatterplot(data['DIS'], data['MEDV']))"
   ]
  },
  {
   "cell_type": "code",
   "execution_count": 10,
   "id": "fe8a6e7f",
   "metadata": {},
   "outputs": [],
   "source": [
    "#Splitting the data to work with\n",
    "from sklearn.model_selection import train_test_split\n",
    "\n",
    "x=data.iloc[:,:-1].values\n",
    "y=data.iloc[:,-1].values\n",
    "x_train,x_test,y_train,y_test = train_test_split(x,y,test_size=0.2,random_state=1)\n"
   ]
  },
  {
   "cell_type": "code",
   "execution_count": 11,
   "id": "c4b27c06",
   "metadata": {},
   "outputs": [],
   "source": [
    "#Scaliing data\n",
    "from sklearn.preprocessing import StandardScaler\n",
    "\n",
    "sc=StandardScaler()\n",
    "x_train[:,:]=sc.fit_transform(x_train[:,:])\n",
    "x_test[:,:]=sc.fit_transform(x_test[:,:])"
   ]
  },
  {
   "cell_type": "code",
   "execution_count": 12,
   "id": "efbe7179",
   "metadata": {},
   "outputs": [
    {
     "data": {
      "text/plain": [
       "LinearRegression()"
      ]
     },
     "execution_count": 12,
     "metadata": {},
     "output_type": "execute_result"
    }
   ],
   "source": [
    "#Fitting the model\n",
    "from sklearn.linear_model import LinearRegression\n",
    "\n",
    "regressor = LinearRegression()\n",
    "regressor.fit(x_train,y_train) "
   ]
  },
  {
   "cell_type": "code",
   "execution_count": 13,
   "id": "5588297f",
   "metadata": {},
   "outputs": [
    {
     "name": "stdout",
     "output_type": "stream",
     "text": [
      "Accuracy: 74.95827075643231 %\n"
     ]
    }
   ],
   "source": [
    "from sklearn.metrics import r2_score\n",
    "\n",
    "y_pred=regressor.predict(x_test)\n",
    "accuracy=r2_score(y_test, y_pred)\n",
    "print(\"Accuracy:\",accuracy*100,\"%\")"
   ]
  },
  {
   "cell_type": "code",
   "execution_count": 14,
   "id": "021e8837",
   "metadata": {},
   "outputs": [
    {
     "name": "stdout",
     "output_type": "stream",
     "text": [
      "y_pred y_test \n",
      "\n",
      "[[32.68525253 28.2       ]\n",
      " [28.10196934 23.9       ]\n",
      " [17.71743775 16.6       ]\n",
      " [22.04337826 22.        ]\n",
      " [17.7061126  20.8       ]\n",
      " [19.15873791 23.        ]\n",
      " [32.35089675 27.9       ]\n",
      " [17.68886936 14.5       ]\n",
      " [25.7917388  21.5       ]\n",
      " [27.50158987 22.6       ]]\n"
     ]
    }
   ],
   "source": [
    "print('y_pred','y_test','\\n')\n",
    "print(np.concatenate((y_pred.reshape(len(y_pred),1), y_test.reshape(len(y_test),1)),1)[:10])"
   ]
  },
  {
   "cell_type": "code",
   "execution_count": 15,
   "id": "0c0c0e29",
   "metadata": {},
   "outputs": [
    {
     "data": {
      "text/plain": [
       "RandomForestRegressor()"
      ]
     },
     "execution_count": 15,
     "metadata": {},
     "output_type": "execute_result"
    }
   ],
   "source": [
    "#Trying another model\n",
    "from sklearn.ensemble import RandomForestRegressor\n",
    "\n",
    "regressor = RandomForestRegressor()\n",
    "regressor.fit(x_train,y_train) "
   ]
  },
  {
   "cell_type": "code",
   "execution_count": 16,
   "id": "764c1e2e",
   "metadata": {},
   "outputs": [
    {
     "name": "stdout",
     "output_type": "stream",
     "text": [
      "Accuracy: 89.13794563171436 %\n"
     ]
    }
   ],
   "source": [
    "y_pred=regressor.predict(x_test)\n",
    "accuracy=r2_score(y_test, y_pred)\n",
    "print(\"Accuracy:\",accuracy*100,\"%\")"
   ]
  },
  {
   "cell_type": "markdown",
   "id": "e749df51",
   "metadata": {},
   "source": [
    "# The Random Forest worked better\n",
    "## Now let's check different parameter combinations\n"
   ]
  },
  {
   "cell_type": "code",
   "execution_count": 17,
   "id": "261dd494",
   "metadata": {},
   "outputs": [
    {
     "data": {
      "text/plain": [
       "RandomForestRegressor()"
      ]
     },
     "execution_count": 17,
     "metadata": {},
     "output_type": "execute_result"
    }
   ],
   "source": [
    "regressor_1 = RandomForestRegressor(n_estimators=50, random_state=0)\n",
    "regressor_2 = RandomForestRegressor(n_estimators=100, random_state=0)\n",
    "regressor_3 = RandomForestRegressor(n_estimators=100, criterion = 'absolute_error', random_state=0)\n",
    "regressor_4 = RandomForestRegressor(n_estimators=200, min_samples_split =20, random_state=0)\n",
    "regressor_5 = RandomForestRegressor(n_estimators=70, max_depth = 7, random_state=0)\n",
    "\n",
    "models = [regressor_1, regressor_2, regressor_3, regressor_4, regressor_5]\n",
    "\n",
    "regressor.fit(x_train,y_train) "
   ]
  },
  {
   "cell_type": "code",
   "execution_count": 18,
   "id": "dad9e13b",
   "metadata": {},
   "outputs": [
    {
     "name": "stdout",
     "output_type": "stream",
     "text": [
      "Accuracy: 88.68156245608832 %\n",
      "Accuracy: 89.00852866294049 %\n",
      "Accuracy: 86.56772709853499 %\n",
      "Accuracy: 88.07346224006416 %\n",
      "Accuracy: 89.14905531274063 %\n"
     ]
    }
   ],
   "source": [
    "def score_model(model, x_t = x_train, x_v = x_test, y_t = y_train, y_v = y_test):\n",
    "    model.fit(x_t, y_t)\n",
    "    preds = model.predict(x_v)\n",
    "    return r2_score(y_v, preds)\n",
    "\n",
    "for i in range(0, len(models)):\n",
    "    accuracy = score_model(models[i])\n",
    "    print(\"Accuracy:\",accuracy*100,\"%\")"
   ]
  },
  {
   "cell_type": "markdown",
   "id": "54c936ed",
   "metadata": {},
   "source": [
    "#### Trying XGBoost until deciding the final result"
   ]
  },
  {
   "cell_type": "code",
   "execution_count": 19,
   "id": "97b8a4e5",
   "metadata": {},
   "outputs": [],
   "source": [
    "import xgboost as xgb\n",
    "data_dmatrix = xgb.DMatrix(data=x_train,label=y_train)"
   ]
  },
  {
   "cell_type": "code",
   "execution_count": null,
   "id": "b6194eff",
   "metadata": {},
   "outputs": [],
   "source": [
    "#Creating the best parameter model\n",
    "max = 0.0\n",
    "for i in np.arange(1, 25, 0.1):\n",
    "    xg_reg = xgb.XGBRegressor(objective ='reg:squarederror', learning_rate = 0.1, max_depth = 7, max_delta_step = i, random_state = 2)\n",
    "    xg_reg.fit(x_train,y_train)\n",
    "    preds = xg_reg.predict(x_test)\n",
    "    print(r2_score(y_test, preds)*100)\n",
    "    if r2_score(y_test, preds)*100 > max:\n",
    "        max = r2_score(y_test, preds)*100\n",
    "        print('here', i)\n"
   ]
  },
  {
   "cell_type": "markdown",
   "id": "b63d6e45",
   "metadata": {},
   "source": [
    "### Found the best XGBoost model at 14.3 max delta step "
   ]
  },
  {
   "cell_type": "code",
   "execution_count": null,
   "id": "fb124ff2",
   "metadata": {},
   "outputs": [],
   "source": [
    "max = 0.0\n",
    "for i in range(1, 25):\n",
    "    xg_reg = xgb.XGBRegressor(objective ='reg:squarederror', learning_rate = 0.1, max_depth = i, max_delta_step = 14.3, random_state = 2)\n",
    "    xg_reg.fit(x_train,y_train)\n",
    "    preds = xg_reg.predict(x_test)\n",
    "    print(r2_score(y_test, preds)*100)\n",
    "    if r2_score(y_test, preds)*100 > max:\n",
    "        max = r2_score(y_test, preds)*100\n",
    "        print('here', i)"
   ]
  },
  {
   "cell_type": "markdown",
   "id": "5b5d1a56",
   "metadata": {},
   "source": [
    "### Found the best XGBoost model at 4 max depth"
   ]
  },
  {
   "cell_type": "code",
   "execution_count": null,
   "id": "49c58ec2",
   "metadata": {},
   "outputs": [],
   "source": [
    "#Adding new parameter\n",
    "max = 0.0\n",
    "for i in np.arange(0, 20, 0.1):\n",
    "    xg_reg = xgb.XGBRegressor(objective ='reg:squarederror', learning_rate = 0.1, max_depth = 4, max_delta_step = 14.3, random_state = 2, gamma = i)\n",
    "    xg_reg.fit(x_train,y_train)\n",
    "    preds = xg_reg.predict(x_test)\n",
    "    print(r2_score(y_test, preds)*100)\n",
    "    if r2_score(y_test, preds)*100 > max:\n",
    "        max = r2_score(y_test, preds)*100\n",
    "        print('here', i)"
   ]
  },
  {
   "cell_type": "markdown",
   "id": "bc253b99",
   "metadata": {},
   "source": [
    "### Found the best XGBoost model at 2.1 gamma"
   ]
  },
  {
   "cell_type": "code",
   "execution_count": null,
   "id": "9a991bea",
   "metadata": {},
   "outputs": [],
   "source": [
    "max = 0.0\n",
    "for i in np.arange(0, 1, 0.0001):\n",
    "    xg_reg = xgb.XGBRegressor(objective ='reg:squarederror', learning_rate = 0.1, max_depth = 4, max_delta_step = 14.3, random_state = 2, gamma = 2.1, subsample = i)\n",
    "    xg_reg.fit(x_train,y_train)\n",
    "    preds = xg_reg.predict(x_test)\n",
    "    print(r2_score(y_test, preds)*100)\n",
    "    if r2_score(y_test, preds)*100 > max:\n",
    "        max = r2_score(y_test, preds)*100\n",
    "        print('here', i)"
   ]
  },
  {
   "cell_type": "markdown",
   "id": "a31b8463",
   "metadata": {},
   "source": [
    "### Found the best XGBoost model at 0.8503 subsample"
   ]
  },
  {
   "cell_type": "code",
   "execution_count": null,
   "id": "4c2c7356",
   "metadata": {},
   "outputs": [],
   "source": [
    "max = 0.0\n",
    "for i in np.arange(0, 20, 0.01):\n",
    "    xg_reg = xgb.XGBRegressor(objective ='reg:squarederror', learning_rate = 0.1, max_depth = 4, max_delta_step = 14.3, random_state = 2, gamma = 2.1, subsample = 0.8503, reg_alpha = i)\n",
    "    xg_reg.fit(x_train,y_train)\n",
    "    preds = xg_reg.predict(x_test)\n",
    "    print(r2_score(y_test, preds)*100)\n",
    "    if r2_score(y_test, preds)*100 > max:\n",
    "        max = r2_score(y_test, preds)*100\n",
    "        print('here', i)"
   ]
  },
  {
   "cell_type": "markdown",
   "id": "ba5aa8fb",
   "metadata": {},
   "source": [
    "### Found the best XGBoost model at 3.02 reg_alpha"
   ]
  },
  {
   "cell_type": "code",
   "execution_count": null,
   "id": "2a02190a",
   "metadata": {},
   "outputs": [],
   "source": [
    "help(xgb.XGBRegressor)"
   ]
  },
  {
   "cell_type": "markdown",
   "id": "3ef5a4c5",
   "metadata": {},
   "source": [
    "# Conclusion: Best model is this one below with accurnacy of 91.11\n",
    "#### This are the parameters xgb.XGBRegressor(objective ='reg:squarederror', learning_rate = 0.1, max_depth = 4, max_delta_step = 14.3, random_state = 2, gamma = 2.1, subsample = 0.8503, reg_alpha = 3.02)"
   ]
  },
  {
   "cell_type": "code",
   "execution_count": 21,
   "id": "ea0bfeb2",
   "metadata": {},
   "outputs": [
    {
     "name": "stdout",
     "output_type": "stream",
     "text": [
      "Accuracy: 91.11686250281595 %\n"
     ]
    }
   ],
   "source": [
    "regressor = xgb.XGBRegressor(objective ='reg:squarederror', learning_rate = 0.1, max_depth = 4, max_delta_step = 14.3, random_state = 2, gamma = 2.1, subsample = 0.8503, reg_alpha = 3.02)\n",
    "\n",
    "regressor.fit(x_train,y_train) \n",
    "\n",
    "preds = regressor.predict(x_test)\n",
    "\n",
    "accuracy = r2_score(y_test, preds)\n",
    "\n",
    "print(\"Accuracy:\",accuracy*100,\"%\")"
   ]
  },
  {
   "cell_type": "code",
   "execution_count": null,
   "id": "1bdd8722",
   "metadata": {},
   "outputs": [],
   "source": []
  }
 ],
 "metadata": {
  "kernelspec": {
   "display_name": "Python 3 (ipykernel)",
   "language": "python",
   "name": "python3"
  },
  "language_info": {
   "codemirror_mode": {
    "name": "ipython",
    "version": 3
   },
   "file_extension": ".py",
   "mimetype": "text/x-python",
   "name": "python",
   "nbconvert_exporter": "python",
   "pygments_lexer": "ipython3",
   "version": "3.7.9"
  }
 },
 "nbformat": 4,
 "nbformat_minor": 5
}
