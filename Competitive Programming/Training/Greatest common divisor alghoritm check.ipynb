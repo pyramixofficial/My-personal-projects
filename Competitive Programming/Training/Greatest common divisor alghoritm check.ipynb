{
 "cells": [
  {
   "cell_type": "code",
   "execution_count": 11,
   "id": "37255d48",
   "metadata": {},
   "outputs": [],
   "source": [
    "def gcd(x, y):\n",
    "    print(y, ' != 0 ---', y!=0)\n",
    "    while y != 0:\n",
    "        print(\"({a}, {b} ) = ({b}, {ab})\".format(a = x, b = y, ab = x%y))\n",
    "        (x, y) = (y, x % y)\n",
    "        print('x = ', x, 'y = ', y)\n",
    "        print('\\n')\n",
    "        print(y, ' != 0 ---', y!=0)\n",
    "    return x"
   ]
  },
  {
   "cell_type": "code",
   "execution_count": 12,
   "id": "6b70781d",
   "metadata": {},
   "outputs": [
    {
     "name": "stdout",
     "output_type": "stream",
     "text": [
      "45  != 0 --- True\n",
      "(10, 45 ) = (45, 10)\n",
      "x =  45 y =  10\n",
      "\n",
      "\n",
      "10  != 0 --- True\n",
      "(45, 10 ) = (10, 5)\n",
      "x =  10 y =  5\n",
      "\n",
      "\n",
      "5  != 0 --- True\n",
      "(10, 5 ) = (5, 0)\n",
      "x =  5 y =  0\n",
      "\n",
      "\n",
      "0  != 0 --- False\n"
     ]
    },
    {
     "data": {
      "text/plain": [
       "5"
      ]
     },
     "execution_count": 12,
     "metadata": {},
     "output_type": "execute_result"
    }
   ],
   "source": [
    "gcd(10, 45)"
   ]
  },
  {
   "cell_type": "code",
   "execution_count": null,
   "id": "a64a28bf",
   "metadata": {},
   "outputs": [],
   "source": []
  }
 ],
 "metadata": {
  "kernelspec": {
   "display_name": "Python 3 (ipykernel)",
   "language": "python",
   "name": "python3"
  },
  "language_info": {
   "codemirror_mode": {
    "name": "ipython",
    "version": 3
   },
   "file_extension": ".py",
   "mimetype": "text/x-python",
   "name": "python",
   "nbconvert_exporter": "python",
   "pygments_lexer": "ipython3",
   "version": "3.7.9"
  }
 },
 "nbformat": 4,
 "nbformat_minor": 5
}
