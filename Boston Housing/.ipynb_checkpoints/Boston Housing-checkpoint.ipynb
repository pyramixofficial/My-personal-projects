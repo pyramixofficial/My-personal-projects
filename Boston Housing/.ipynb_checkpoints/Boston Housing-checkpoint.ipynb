{
 "cells": [
  {
   "cell_type": "code",
   "execution_count": null,
   "id": "ec7a0031",
   "metadata": {},
   "outputs": [],
   "source": [
    "import numpy as np\n",
    "import pandas as pd\n",
    "import seaborn as sns\n",
    "import matplotlib.pyplot as plt"
   ]
  },
  {
   "cell_type": "code",
   "execution_count": null,
   "id": "edcf3c18",
   "metadata": {},
   "outputs": [],
   "source": [
    "data = pd.read_csv('data.csv')\n",
    "data.head()"
   ]
  },
  {
   "cell_type": "code",
   "execution_count": null,
   "id": "e7bf7f3d",
   "metadata": {},
   "outputs": [],
   "source": [
    "#Data preparation\n",
    "data.info()"
   ]
  },
  {
   "cell_type": "code",
   "execution_count": null,
   "id": "b04c1a83",
   "metadata": {},
   "outputs": [],
   "source": [
    "for col in data:\n",
    "    if(data[col].isnull().sum()!=0):\n",
    "        data[col]=data[col].fillna(data[col].dropna().mean())"
   ]
  },
  {
   "cell_type": "code",
   "execution_count": null,
   "id": "90e65a9d",
   "metadata": {},
   "outputs": [],
   "source": [
    "data.info()"
   ]
  },
  {
   "cell_type": "code",
   "execution_count": null,
   "id": "66d82672",
   "metadata": {},
   "outputs": [],
   "source": [
    "#Analyzing data\n",
    "\n",
    "print(sns.scatterplot(data['CRIM'], data['MEDV']))\n",
    "print(sns.scatterplot(data['ZN'], data['MEDV']))"
   ]
  },
  {
   "cell_type": "code",
   "execution_count": null,
   "id": "716a1eb9",
   "metadata": {},
   "outputs": [],
   "source": [
    "print(sns.scatterplot(data['INDUS'], data['MEDV']))\n",
    "print(sns.scatterplot(data['CHAS'], data['MEDV']))"
   ]
  },
  {
   "cell_type": "code",
   "execution_count": null,
   "id": "ba0bdea4",
   "metadata": {},
   "outputs": [],
   "source": [
    "print(sns.scatterplot(data['NOX'], data['MEDV']))\n",
    "print(sns.scatterplot(data['RM'], data['MEDV']))"
   ]
  },
  {
   "cell_type": "code",
   "execution_count": null,
   "id": "5dd36e56",
   "metadata": {},
   "outputs": [],
   "source": [
    "print(sns.scatterplot(data['AGE'], data['MEDV']))\n",
    "print(sns.scatterplot(data['DIS'], data['MEDV']))"
   ]
  },
  {
   "cell_type": "code",
   "execution_count": null,
   "id": "fe8a6e7f",
   "metadata": {},
   "outputs": [],
   "source": [
    "#Splitting the data to work with\n",
    "from sklearn.model_selection import train_test_split\n",
    "\n",
    "x=data.iloc[:,:-1].values\n",
    "y=data.iloc[:,-1].values\n",
    "x_train,x_test,y_train,y_test = train_test_split(x,y,test_size=0.2,random_state=1)\n"
   ]
  },
  {
   "cell_type": "code",
   "execution_count": null,
   "id": "c4b27c06",
   "metadata": {},
   "outputs": [],
   "source": [
    "#Scaliing data\n",
    "from sklearn.preprocessing import StandardScaler\n",
    "\n",
    "sc=StandardScaler()\n",
    "x_train[:,:]=sc.fit_transform(x_train[:,:])\n",
    "x_test[:,:]=sc.fit_transform(x_test[:,:])"
   ]
  },
  {
   "cell_type": "code",
   "execution_count": null,
   "id": "efbe7179",
   "metadata": {},
   "outputs": [],
   "source": [
    "#Fitting the model\n",
    "from sklearn.linear_model import LinearRegression\n",
    "\n",
    "regressor = LinearRegression()\n",
    "regressor.fit(x_train,y_train) "
   ]
  },
  {
   "cell_type": "code",
   "execution_count": null,
   "id": "5588297f",
   "metadata": {},
   "outputs": [],
   "source": [
    "from sklearn.metrics import r2_score\n",
    "\n",
    "y_pred=regressor.predict(x_test)\n",
    "accuracy=r2_score(y_test, y_pred)\n",
    "print(\"Accuracy:\",accuracy*100,\"%\")"
   ]
  },
  {
   "cell_type": "code",
   "execution_count": null,
   "id": "021e8837",
   "metadata": {},
   "outputs": [],
   "source": [
    "print('y_pred','y_test','\\n')\n",
    "print(np.concatenate((y_pred.reshape(len(y_pred),1), y_test.reshape(len(y_test),1)),1)[:10])"
   ]
  },
  {
   "cell_type": "code",
   "execution_count": null,
   "id": "0c0c0e29",
   "metadata": {},
   "outputs": [],
   "source": [
    "#Trying another model\n",
    "from sklearn.ensemble import RandomForestRegressor\n",
    "\n",
    "regressor = RandomForestRegressor()\n",
    "regressor.fit(x_train,y_train) "
   ]
  },
  {
   "cell_type": "code",
   "execution_count": null,
   "id": "764c1e2e",
   "metadata": {},
   "outputs": [],
   "source": [
    "y_pred=regressor.predict(x_test)\n",
    "accuracy=r2_score(y_test, y_pred)\n",
    "print(\"Accuracy:\",accuracy*100,\"%\")"
   ]
  },
  {
   "cell_type": "markdown",
   "id": "e749df51",
   "metadata": {},
   "source": [
    "# The Random Forest worked better\n",
    "## Now let's check different parameter combinations\n"
   ]
  },
  {
   "cell_type": "code",
   "execution_count": null,
   "id": "261dd494",
   "metadata": {},
   "outputs": [],
   "source": [
    "regressor_1 = RandomForestRegressor(n_estimators=50, random_state=0)\n",
    "regressor_2 = RandomForestRegressor(n_estimators=100, random_state=0)\n",
    "regressor_3 = RandomForestRegressor(n_estimators=100, criterion = 'absolute_error', random_state=0)\n",
    "regressor_4 = RandomForestRegressor(n_estimators=200, min_samples_split =20, random_state=0)\n",
    "regressor_5 = RandomForestRegressor(n_estimators=70, max_depth = 7, random_state=0)\n",
    "\n",
    "models = [regressor_1, regressor_2, regressor_3, regressor_4, regressor_5]\n",
    "\n",
    "regressor.fit(x_train,y_train) "
   ]
  },
  {
   "cell_type": "code",
   "execution_count": null,
   "id": "dad9e13b",
   "metadata": {},
   "outputs": [],
   "source": [
    "def score_model(model, x_t = x_train, x_v = x_test, y_t = y_train, y_v = y_test):\n",
    "    model.fit(x_t, y_t)\n",
    "    preds = model.predict(x_v)\n",
    "    return r2_score(y_v, preds)\n",
    "\n",
    "for i in range(0, len(models)):\n",
    "    accuracy = score_model(models[i])\n",
    "    print(\"Accuracy:\",accuracy*100,\"%\")"
   ]
  },
  {
   "cell_type": "markdown",
   "id": "54c936ed",
   "metadata": {},
   "source": [
    "#### Trying XGBoost until deciding the final result"
   ]
  },
  {
   "cell_type": "code",
   "execution_count": null,
   "id": "97b8a4e5",
   "metadata": {},
   "outputs": [],
   "source": [
    "import xgboost as xgb\n",
    "data_dmatrix = xgb.DMatrix(data=x_train,label=y_train)"
   ]
  },
  {
   "cell_type": "code",
   "execution_count": null,
   "id": "b6194eff",
   "metadata": {},
   "outputs": [],
   "source": [
    "#Creating the best parameter model\n",
    "max = 0.0\n",
    "for i in np.arange(1, 25, 0.1):\n",
    "    xg_reg = xgb.XGBRegressor(objective ='reg:squarederror', learning_rate = 0.1, max_depth = 7, max_delta_step = i, random_state = 2)\n",
    "    xg_reg.fit(x_train,y_train)\n",
    "    preds = xg_reg.predict(x_test)\n",
    "    print(r2_score(y_test, preds)*100)\n",
    "    if r2_score(y_test, preds)*100 > max:\n",
    "        max = r2_score(y_test, preds)*100\n",
    "        print('here', i)\n"
   ]
  },
  {
   "cell_type": "markdown",
   "id": "b63d6e45",
   "metadata": {},
   "source": [
    "### Found the best XGBoost model at 14.3 max delta step "
   ]
  },
  {
   "cell_type": "code",
   "execution_count": null,
   "id": "fb124ff2",
   "metadata": {},
   "outputs": [],
   "source": [
    "max = 0.0\n",
    "for i in range(1, 25):\n",
    "    xg_reg = xgb.XGBRegressor(objective ='reg:squarederror', learning_rate = 0.1, max_depth = i, max_delta_step = 14.3, random_state = 2)\n",
    "    xg_reg.fit(x_train,y_train)\n",
    "    preds = xg_reg.predict(x_test)\n",
    "    print(r2_score(y_test, preds)*100)\n",
    "    if r2_score(y_test, preds)*100 > max:\n",
    "        max = r2_score(y_test, preds)*100\n",
    "        print('here', i)"
   ]
  },
  {
   "cell_type": "markdown",
   "id": "5b5d1a56",
   "metadata": {},
   "source": [
    "### Found the best XGBoost model at 4 max depth"
   ]
  },
  {
   "cell_type": "code",
   "execution_count": null,
   "id": "49c58ec2",
   "metadata": {},
   "outputs": [],
   "source": [
    "#Adding new parameter\n",
    "max = 0.0\n",
    "for i in np.arange(0, 20, 0.1):\n",
    "    xg_reg = xgb.XGBRegressor(objective ='reg:squarederror', learning_rate = 0.1, max_depth = 4, max_delta_step = 14.3, random_state = 2, gamma = i)\n",
    "    xg_reg.fit(x_train,y_train)\n",
    "    preds = xg_reg.predict(x_test)\n",
    "    print(r2_score(y_test, preds)*100)\n",
    "    if r2_score(y_test, preds)*100 > max:\n",
    "        max = r2_score(y_test, preds)*100\n",
    "        print('here', i)"
   ]
  },
  {
   "cell_type": "markdown",
   "id": "bc253b99",
   "metadata": {},
   "source": [
    "### Found the best XGBoost model at 2.1 gamma"
   ]
  },
  {
   "cell_type": "code",
   "execution_count": null,
   "id": "9a991bea",
   "metadata": {},
   "outputs": [],
   "source": [
    "max = 0.0\n",
    "for i in np.arange(0, 1, 0.0001):\n",
    "    xg_reg = xgb.XGBRegressor(objective ='reg:squarederror', learning_rate = 0.1, max_depth = 4, max_delta_step = 14.3, random_state = 2, gamma = 2.1, subsample = i)\n",
    "    xg_reg.fit(x_train,y_train)\n",
    "    preds = xg_reg.predict(x_test)\n",
    "    print(r2_score(y_test, preds)*100)\n",
    "    if r2_score(y_test, preds)*100 > max:\n",
    "        max = r2_score(y_test, preds)*100\n",
    "        print('here', i)"
   ]
  },
  {
   "cell_type": "markdown",
   "id": "a31b8463",
   "metadata": {},
   "source": [
    "### Found the best XGBoost model at 0.8503 subsample"
   ]
  },
  {
   "cell_type": "code",
   "execution_count": null,
   "id": "4c2c7356",
   "metadata": {},
   "outputs": [],
   "source": [
    "max = 0.0\n",
    "for i in np.arange(0, 20, 0.01):\n",
    "    xg_reg = xgb.XGBRegressor(objective ='reg:squarederror', learning_rate = 0.1, max_depth = 4, max_delta_step = 14.3, random_state = 2, gamma = 2.1, subsample = 0.8503, reg_alpha = i)\n",
    "    xg_reg.fit(x_train,y_train)\n",
    "    preds = xg_reg.predict(x_test)\n",
    "    print(r2_score(y_test, preds)*100)\n",
    "    if r2_score(y_test, preds)*100 > max:\n",
    "        max = r2_score(y_test, preds)*100\n",
    "        print('here', i)"
   ]
  },
  {
   "cell_type": "markdown",
   "id": "ba5aa8fb",
   "metadata": {},
   "source": [
    "### Found the best XGBoost model at 3.02 reg_alpha"
   ]
  },
  {
   "cell_type": "code",
   "execution_count": null,
   "id": "2a02190a",
   "metadata": {},
   "outputs": [],
   "source": [
    "help(xgb.XGBRegressor)"
   ]
  },
  {
   "cell_type": "markdown",
   "id": "3ef5a4c5",
   "metadata": {},
   "source": [
    "# Conclusion: Best model is this one below with accurnacy of 91.11\n",
    "#### This are the parameters xgb.XGBRegressor(objective ='reg:squarederror', learning_rate = 0.1, max_depth = 4, max_delta_step = 14.3, random_state = 2, gamma = 2.1, subsample = 0.8503, reg_alpha = 3.02)"
   ]
  },
  {
   "cell_type": "code",
   "execution_count": null,
   "id": "ea0bfeb2",
   "metadata": {},
   "outputs": [],
   "source": [
    "regressor = xgb.XGBRegressor(objective ='reg:squarederror', learning_rate = 0.1, max_depth = 4, max_delta_step = 14.3, random_state = 2, gamma = 2.1, subsample = 0.8503, reg_alpha = 3.02)\n",
    "\n",
    "regressor.fit(x_train,y_train) \n",
    "\n",
    "preds = regressor.predict(x_test)\n",
    "\n",
    "accuracy = r2_score(y_test, preds)\n",
    "\n",
    "print(\"Accuracy:\",accuracy*100,\"%\")"
   ]
  },
  {
   "cell_type": "code",
   "execution_count": null,
   "id": "1bdd8722",
   "metadata": {},
   "outputs": [],
   "source": []
  }
 ],
 "metadata": {
  "kernelspec": {
   "display_name": "Python 3 (ipykernel)",
   "language": "python",
   "name": "python3"
  },
  "language_info": {
   "codemirror_mode": {
    "name": "ipython",
    "version": 3
   },
   "file_extension": ".py",
   "mimetype": "text/x-python",
   "name": "python",
   "nbconvert_exporter": "python",
   "pygments_lexer": "ipython3",
   "version": "3.7.9"
  }
 },
 "nbformat": 4,
 "nbformat_minor": 5
}
