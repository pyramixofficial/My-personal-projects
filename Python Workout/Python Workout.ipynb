{
 "cells": [
  {
   "cell_type": "code",
   "execution_count": 1,
   "id": "a00cea04",
   "metadata": {},
   "outputs": [],
   "source": [
    "import random\n",
    "def guessing_game_version_1():\n",
    "    number = random.randint(0, 100)\n",
    "    user_number = int(input(\"Guess the number\"))\n",
    "    while (number != user_number):\n",
    "        if number>user_number:\n",
    "            print('Too low')\n",
    "        else:\n",
    "            print('Too high')\n",
    "        user_number = int(input('Give another number'))\n",
    "    print('Just right')\n",
    "    return None"
   ]
  },
  {
   "cell_type": "code",
   "execution_count": 2,
   "id": "6251f578",
   "metadata": {},
   "outputs": [],
   "source": [
    "def guessing_game_version_2():\n",
    "    number = random.randint(0, 10)\n",
    "    user_number = int(input(\"Guess the number \"))\n",
    "    for i in range(3):\n",
    "        if number == user_number:\n",
    "            print('Just right')\n",
    "            break\n",
    "        elif number>user_number:\n",
    "            print('Too low')\n",
    "        else:\n",
    "            print('Too high')\n",
    "        user_number = int(input('Give another number'))\n",
    "    \n",
    "    return None"
   ]
  },
  {
   "cell_type": "code",
   "execution_count": 1,
   "id": "b288b020",
   "metadata": {},
   "outputs": [
    {
     "data": {
      "text/plain": [
       "15"
      ]
     },
     "execution_count": 1,
     "metadata": {},
     "output_type": "execute_result"
    }
   ],
   "source": [
    "def mysum(*args):\n",
    "    result = 0\n",
    "    for arg in args:\n",
    "        result+=arg\n",
    "    return result\n",
    "mysum(1,2,3,4,5)"
   ]
  },
  {
   "cell_type": "code",
   "execution_count": 2,
   "id": "c15212e2",
   "metadata": {},
   "outputs": [
    {
     "data": {
      "text/plain": [
       "12"
      ]
     },
     "execution_count": 2,
     "metadata": {},
     "output_type": "execute_result"
    }
   ],
   "source": [
    "def mysum(lista, start):\n",
    "    result = 0\n",
    "    for elem in lista[start:]:\n",
    "        result+=elem\n",
    "    return result\n",
    "mysum([1,2,3,4,5], 2)"
   ]
  },
  {
   "cell_type": "code",
   "execution_count": null,
   "id": "4004e2db",
   "metadata": {},
   "outputs": [],
   "source": []
  }
 ],
 "metadata": {
  "kernelspec": {
   "display_name": "Python 3 (ipykernel)",
   "language": "python",
   "name": "python3"
  },
  "language_info": {
   "codemirror_mode": {
    "name": "ipython",
    "version": 3
   },
   "file_extension": ".py",
   "mimetype": "text/x-python",
   "name": "python",
   "nbconvert_exporter": "python",
   "pygments_lexer": "ipython3",
   "version": "3.7.9"
  }
 },
 "nbformat": 4,
 "nbformat_minor": 5
}
